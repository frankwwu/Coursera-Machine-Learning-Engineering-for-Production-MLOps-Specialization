{
 "cells": [
  {
   "cell_type": "markdown",
   "metadata": {
    "id": "2V_OLlgtQ0DW"
   },
   "source": [
    "# Ungraded Lab: TFDV Exercise\n",
    "\n",
    "\n",
    "In this notebook, you will get to practice using [TensorFlow Data Validation (TFDV)](https://cloud.google.com/solutions/machine-learning/analyzing-and-validating-data-at-scale-for-ml-using-tfx), an open-source Python package from the [TensorFlow Extended (TFX)](https://www.tensorflow.org/tfx) ecosystem. \n",
    "\n",
    "TFDV helps to understand, validate, and monitor production machine learning data at scale. It provides insight into some key questions in the data analysis process such as:\n",
    "\n",
    "* What are the underlying statistics of my data?\n",
    "\n",
    "* What does my training dataset look like?\n",
    "\n",
    "* How does my evaluation and serving datasets compare to the training dataset?\n",
    "\n",
    "* How can I find and fix data anomalies?\n",
    "\n",
    "The figure below summarizes the usual TFDV workflow:\n",
    "\n",
    "<img src='img/tfdv.png' alt='picture of tfdv workflow'>\n",
    "\n",
    "As shown, you can use TFDV to compute descriptive statistics of the training data and generate a schema. You can then validate new datasets (e.g. the serving dataset from your customers) against this schema to detect and fix anomalies. This helps prevent the different types of skew. That way, you can be confident that your model is training on or predicting data that is consistent with the expected feature types and distribution.\n",
    "\n",
    "This ungraded exercise demonstrates useful functions of TFDV at an introductory level as preparation for this week's graded programming exercise. Specifically, you will:\n",
    "\n",
    "- **Generate and visualize statistics from a dataset**\n",
    "- **Detect and fix anomalies in an evaluation dataset**\n",
    "\n",
    "Let's begin!"
   ]
  },
  {
   "cell_type": "markdown",
   "metadata": {
    "id": "lyGr4CC8AUfu"
   },
   "source": [
    "## Package Installation and Imports"
   ]
  },
  {
   "cell_type": "code",
   "execution_count": 1,
   "metadata": {
    "id": "GHi-tkOeBOis"
   },
   "outputs": [
    {
     "name": "stdout",
     "output_type": "stream",
     "text": [
      "TFDV Version: 1.3.0\n",
      "Tensorflow Version: 2.6.0\n"
     ]
    }
   ],
   "source": [
    "import tensorflow as tf\n",
    "import tensorflow_data_validation as tfdv\n",
    "import pandas as pd\n",
    "\n",
    "from sklearn.model_selection import train_test_split\n",
    "from util import add_extra_rows\n",
    "\n",
    "from tensorflow_metadata.proto.v0 import schema_pb2\n",
    "\n",
    "print('TFDV Version: {}'.format(tfdv.__version__))\n",
    "print('Tensorflow Version: {}'.format(tf.__version__))"
   ]
  },
  {
   "cell_type": "markdown",
   "metadata": {
    "id": "Kzt9rO9eAGF-"
   },
   "source": [
    "## Download the dataset\n",
    "\n",
    "You will be working with the [Census Income Dataset](http://archive.ics.uci.edu/ml/datasets/Census+Income), a dataset that can be used to predict if an individual earns more than or less than 50k US Dollars annually. The summary of attribute names with descriptions/expected values is shown below and you can read more about it [in this data description file.](https://archive.ics.uci.edu/ml/machine-learning-databases/adult/adult.names)\n",
    "\n",
    "\n",
    "* **age**: continuous.\n",
    "* **workclass**: Private, Self-emp-not-inc, Self-emp-inc, Federal-gov, Local-gov, State-gov, Without-pay, Never-worked.\n",
    "* **fnlwgt**: continuous.\n",
    "* **education**: Bachelors, Some-college, 11th, HS-grad, Prof-school, Assoc-acdm, Assoc-voc, 9th, 7th-8th, 12th, Masters, 1st-4th, 10th, Doctorate, 5th-6th, Preschool.\n",
    "* **education-num**: continuous.\n",
    "* **marital-status**: Married-civ-spouse, Divorced, Never-married, Separated, Widowed, Married-spouse-absent, Married-AF-spouse.\n",
    "* **occupation**: Tech-support, Craft-repair, Other-service, Sales, Exec-managerial, Prof-specialty, Handlers-cleaners, Machine-op-inspct, Adm-clerical, Farming-fishing, Transport-moving, Priv-house-serv, Protective-serv, Armed-Forces.\n",
    "* **relationship**: Wife, Own-child, Husband, Not-in-family, Other-relative, Unmarried.\n",
    "* **race**: White, Asian-Pac-Islander, Amer-Indian-Eskimo, Other, Black.\n",
    "* **sex**: Female, Male.\n",
    "* **capital-gain**: continuous.\n",
    "* **capital-loss**: continuous.\n",
    "* **hours-per-week**: continuous.\n",
    "* **native-country**: United-States, Cambodia, England, Puerto-Rico, Canada, Germany, Outlying-US(Guam-USVI-etc), India, Japan, Greece, South, China, Cuba, Iran, Honduras, Philippines, Italy, Poland, Jamaica, Vietnam, Mexico, Portugal, Ireland, France, Dominican-Republic, Laos, Ecuador, Taiwan, Haiti, Columbia, Hungary, Guatemala, Nicaragua, Scotland, Thailand, Yugoslavia, El-Salvador, Trinadad&Tobago, Peru, Hong, Holand-Netherlands.\n",
    "\n",
    "Let's load the dataset and split it into training and evaluation sets. We will not shuffle them for consistent results in this demo notebook but you should otherwise in real projects."
   ]
  },
  {
   "cell_type": "code",
   "execution_count": 2,
   "metadata": {
    "id": "WKTfuT2rga-_"
   },
   "outputs": [],
   "source": [
    "# Read in the training and evaluation datasets\n",
    "df = pd.read_csv('data/adult.data', skipinitialspace=True)\n",
    "\n",
    "# Split the dataset. Do not shuffle for this demo notebook.\n",
    "train_df, eval_df = train_test_split(df, test_size=0.2, shuffle=False)"
   ]
  },
  {
   "cell_type": "markdown",
   "metadata": {
    "id": "0RQvgiMRq0pn"
   },
   "source": [
    "Let's see the first few columns of the train and eval sets."
   ]
  },
  {
   "cell_type": "code",
   "execution_count": 3,
   "metadata": {
    "id": "uxDFD6dR0PYH"
   },
   "outputs": [
    {
     "data": {
      "text/html": [
       "<div>\n",
       "<style scoped>\n",
       "    .dataframe tbody tr th:only-of-type {\n",
       "        vertical-align: middle;\n",
       "    }\n",
       "\n",
       "    .dataframe tbody tr th {\n",
       "        vertical-align: top;\n",
       "    }\n",
       "\n",
       "    .dataframe thead th {\n",
       "        text-align: right;\n",
       "    }\n",
       "</style>\n",
       "<table border=\"1\" class=\"dataframe\">\n",
       "  <thead>\n",
       "    <tr style=\"text-align: right;\">\n",
       "      <th></th>\n",
       "      <th>39</th>\n",
       "      <th>State-gov</th>\n",
       "      <th>77516</th>\n",
       "      <th>Bachelors</th>\n",
       "      <th>13</th>\n",
       "      <th>Never-married</th>\n",
       "      <th>Adm-clerical</th>\n",
       "      <th>Not-in-family</th>\n",
       "      <th>White</th>\n",
       "      <th>Male</th>\n",
       "      <th>2174</th>\n",
       "      <th>0</th>\n",
       "      <th>40</th>\n",
       "      <th>United-States</th>\n",
       "      <th>&lt;=50K</th>\n",
       "    </tr>\n",
       "  </thead>\n",
       "  <tbody>\n",
       "    <tr>\n",
       "      <th>0</th>\n",
       "      <td>50</td>\n",
       "      <td>Self-emp-not-inc</td>\n",
       "      <td>83311</td>\n",
       "      <td>Bachelors</td>\n",
       "      <td>13</td>\n",
       "      <td>Married-civ-spouse</td>\n",
       "      <td>Exec-managerial</td>\n",
       "      <td>Husband</td>\n",
       "      <td>White</td>\n",
       "      <td>Male</td>\n",
       "      <td>0</td>\n",
       "      <td>0</td>\n",
       "      <td>13</td>\n",
       "      <td>United-States</td>\n",
       "      <td>&lt;=50K</td>\n",
       "    </tr>\n",
       "    <tr>\n",
       "      <th>1</th>\n",
       "      <td>38</td>\n",
       "      <td>Private</td>\n",
       "      <td>215646</td>\n",
       "      <td>HS-grad</td>\n",
       "      <td>9</td>\n",
       "      <td>Divorced</td>\n",
       "      <td>Handlers-cleaners</td>\n",
       "      <td>Not-in-family</td>\n",
       "      <td>White</td>\n",
       "      <td>Male</td>\n",
       "      <td>0</td>\n",
       "      <td>0</td>\n",
       "      <td>40</td>\n",
       "      <td>United-States</td>\n",
       "      <td>&lt;=50K</td>\n",
       "    </tr>\n",
       "    <tr>\n",
       "      <th>2</th>\n",
       "      <td>53</td>\n",
       "      <td>Private</td>\n",
       "      <td>234721</td>\n",
       "      <td>11th</td>\n",
       "      <td>7</td>\n",
       "      <td>Married-civ-spouse</td>\n",
       "      <td>Handlers-cleaners</td>\n",
       "      <td>Husband</td>\n",
       "      <td>Black</td>\n",
       "      <td>Male</td>\n",
       "      <td>0</td>\n",
       "      <td>0</td>\n",
       "      <td>40</td>\n",
       "      <td>United-States</td>\n",
       "      <td>&lt;=50K</td>\n",
       "    </tr>\n",
       "    <tr>\n",
       "      <th>3</th>\n",
       "      <td>28</td>\n",
       "      <td>Private</td>\n",
       "      <td>338409</td>\n",
       "      <td>Bachelors</td>\n",
       "      <td>13</td>\n",
       "      <td>Married-civ-spouse</td>\n",
       "      <td>Prof-specialty</td>\n",
       "      <td>Wife</td>\n",
       "      <td>Black</td>\n",
       "      <td>Female</td>\n",
       "      <td>0</td>\n",
       "      <td>0</td>\n",
       "      <td>40</td>\n",
       "      <td>Cuba</td>\n",
       "      <td>&lt;=50K</td>\n",
       "    </tr>\n",
       "    <tr>\n",
       "      <th>4</th>\n",
       "      <td>37</td>\n",
       "      <td>Private</td>\n",
       "      <td>284582</td>\n",
       "      <td>Masters</td>\n",
       "      <td>14</td>\n",
       "      <td>Married-civ-spouse</td>\n",
       "      <td>Exec-managerial</td>\n",
       "      <td>Wife</td>\n",
       "      <td>White</td>\n",
       "      <td>Female</td>\n",
       "      <td>0</td>\n",
       "      <td>0</td>\n",
       "      <td>40</td>\n",
       "      <td>United-States</td>\n",
       "      <td>&lt;=50K</td>\n",
       "    </tr>\n",
       "  </tbody>\n",
       "</table>\n",
       "</div>"
      ],
      "text/plain": [
       "   39         State-gov   77516  Bachelors  13       Never-married  \\\n",
       "0  50  Self-emp-not-inc   83311  Bachelors  13  Married-civ-spouse   \n",
       "1  38           Private  215646    HS-grad   9            Divorced   \n",
       "2  53           Private  234721       11th   7  Married-civ-spouse   \n",
       "3  28           Private  338409  Bachelors  13  Married-civ-spouse   \n",
       "4  37           Private  284582    Masters  14  Married-civ-spouse   \n",
       "\n",
       "        Adm-clerical  Not-in-family  White    Male  2174  0  40  \\\n",
       "0    Exec-managerial        Husband  White    Male     0  0  13   \n",
       "1  Handlers-cleaners  Not-in-family  White    Male     0  0  40   \n",
       "2  Handlers-cleaners        Husband  Black    Male     0  0  40   \n",
       "3     Prof-specialty           Wife  Black  Female     0  0  40   \n",
       "4    Exec-managerial           Wife  White  Female     0  0  40   \n",
       "\n",
       "   United-States  <=50K  \n",
       "0  United-States  <=50K  \n",
       "1  United-States  <=50K  \n",
       "2  United-States  <=50K  \n",
       "3           Cuba  <=50K  \n",
       "4  United-States  <=50K  "
      ]
     },
     "execution_count": 3,
     "metadata": {},
     "output_type": "execute_result"
    }
   ],
   "source": [
    "# Preview the train set\n",
    "train_df.head()"
   ]
  },
  {
   "cell_type": "code",
   "execution_count": 4,
   "metadata": {
    "id": "yyrmQLCm0a5V"
   },
   "outputs": [
    {
     "data": {
      "text/html": [
       "<div>\n",
       "<style scoped>\n",
       "    .dataframe tbody tr th:only-of-type {\n",
       "        vertical-align: middle;\n",
       "    }\n",
       "\n",
       "    .dataframe tbody tr th {\n",
       "        vertical-align: top;\n",
       "    }\n",
       "\n",
       "    .dataframe thead th {\n",
       "        text-align: right;\n",
       "    }\n",
       "</style>\n",
       "<table border=\"1\" class=\"dataframe\">\n",
       "  <thead>\n",
       "    <tr style=\"text-align: right;\">\n",
       "      <th></th>\n",
       "      <th>39</th>\n",
       "      <th>State-gov</th>\n",
       "      <th>77516</th>\n",
       "      <th>Bachelors</th>\n",
       "      <th>13</th>\n",
       "      <th>Never-married</th>\n",
       "      <th>Adm-clerical</th>\n",
       "      <th>Not-in-family</th>\n",
       "      <th>White</th>\n",
       "      <th>Male</th>\n",
       "      <th>2174</th>\n",
       "      <th>0</th>\n",
       "      <th>40</th>\n",
       "      <th>United-States</th>\n",
       "      <th>&lt;=50K</th>\n",
       "    </tr>\n",
       "  </thead>\n",
       "  <tbody>\n",
       "    <tr>\n",
       "      <th>26048</th>\n",
       "      <td>21</td>\n",
       "      <td>Private</td>\n",
       "      <td>216129</td>\n",
       "      <td>HS-grad</td>\n",
       "      <td>9</td>\n",
       "      <td>Never-married</td>\n",
       "      <td>Other-service</td>\n",
       "      <td>Own-child</td>\n",
       "      <td>White</td>\n",
       "      <td>Male</td>\n",
       "      <td>0</td>\n",
       "      <td>0</td>\n",
       "      <td>35</td>\n",
       "      <td>United-States</td>\n",
       "      <td>&lt;=50K</td>\n",
       "    </tr>\n",
       "    <tr>\n",
       "      <th>26049</th>\n",
       "      <td>33</td>\n",
       "      <td>Private</td>\n",
       "      <td>189368</td>\n",
       "      <td>Some-college</td>\n",
       "      <td>10</td>\n",
       "      <td>Married-civ-spouse</td>\n",
       "      <td>Transport-moving</td>\n",
       "      <td>Husband</td>\n",
       "      <td>Black</td>\n",
       "      <td>Male</td>\n",
       "      <td>0</td>\n",
       "      <td>0</td>\n",
       "      <td>40</td>\n",
       "      <td>United-States</td>\n",
       "      <td>&gt;50K</td>\n",
       "    </tr>\n",
       "    <tr>\n",
       "      <th>26050</th>\n",
       "      <td>19</td>\n",
       "      <td>?</td>\n",
       "      <td>141418</td>\n",
       "      <td>Some-college</td>\n",
       "      <td>10</td>\n",
       "      <td>Never-married</td>\n",
       "      <td>?</td>\n",
       "      <td>Own-child</td>\n",
       "      <td>White</td>\n",
       "      <td>Male</td>\n",
       "      <td>0</td>\n",
       "      <td>0</td>\n",
       "      <td>15</td>\n",
       "      <td>United-States</td>\n",
       "      <td>&lt;=50K</td>\n",
       "    </tr>\n",
       "    <tr>\n",
       "      <th>26051</th>\n",
       "      <td>19</td>\n",
       "      <td>Private</td>\n",
       "      <td>306225</td>\n",
       "      <td>HS-grad</td>\n",
       "      <td>9</td>\n",
       "      <td>Never-married</td>\n",
       "      <td>Handlers-cleaners</td>\n",
       "      <td>Own-child</td>\n",
       "      <td>White</td>\n",
       "      <td>Male</td>\n",
       "      <td>0</td>\n",
       "      <td>0</td>\n",
       "      <td>25</td>\n",
       "      <td>United-States</td>\n",
       "      <td>&lt;=50K</td>\n",
       "    </tr>\n",
       "    <tr>\n",
       "      <th>26052</th>\n",
       "      <td>35</td>\n",
       "      <td>Private</td>\n",
       "      <td>330664</td>\n",
       "      <td>HS-grad</td>\n",
       "      <td>9</td>\n",
       "      <td>Divorced</td>\n",
       "      <td>Transport-moving</td>\n",
       "      <td>Not-in-family</td>\n",
       "      <td>White</td>\n",
       "      <td>Male</td>\n",
       "      <td>0</td>\n",
       "      <td>0</td>\n",
       "      <td>40</td>\n",
       "      <td>United-States</td>\n",
       "      <td>&lt;=50K</td>\n",
       "    </tr>\n",
       "  </tbody>\n",
       "</table>\n",
       "</div>"
      ],
      "text/plain": [
       "       39 State-gov   77516     Bachelors  13       Never-married  \\\n",
       "26048  21   Private  216129       HS-grad   9       Never-married   \n",
       "26049  33   Private  189368  Some-college  10  Married-civ-spouse   \n",
       "26050  19         ?  141418  Some-college  10       Never-married   \n",
       "26051  19   Private  306225       HS-grad   9       Never-married   \n",
       "26052  35   Private  330664       HS-grad   9            Divorced   \n",
       "\n",
       "            Adm-clerical  Not-in-family  White  Male  2174  0  40  \\\n",
       "26048      Other-service      Own-child  White  Male     0  0  35   \n",
       "26049   Transport-moving        Husband  Black  Male     0  0  40   \n",
       "26050                  ?      Own-child  White  Male     0  0  15   \n",
       "26051  Handlers-cleaners      Own-child  White  Male     0  0  25   \n",
       "26052   Transport-moving  Not-in-family  White  Male     0  0  40   \n",
       "\n",
       "       United-States  <=50K  \n",
       "26048  United-States  <=50K  \n",
       "26049  United-States   >50K  \n",
       "26050  United-States  <=50K  \n",
       "26051  United-States  <=50K  \n",
       "26052  United-States  <=50K  "
      ]
     },
     "execution_count": 4,
     "metadata": {},
     "output_type": "execute_result"
    }
   ],
   "source": [
    "# Preview the eval set\n",
    "eval_df.head()"
   ]
  },
  {
   "cell_type": "markdown",
   "metadata": {
    "id": "12_uIoIjr9lv"
   },
   "source": [
    "From these few columns, you can get a first impression of the data. You will notice that most are strings and integers. There are also columns that are mostly zeroes. In the next sections, you will see how to use TFDV to aggregate and process this information so you can inspect it more easily."
   ]
  },
  {
   "cell_type": "markdown",
   "metadata": {},
   "source": [
    "### Adding extra rows\n",
    "\n",
    "To demonstrate how TFDV can detect anomalies later, you will add a few extra rows to the evaluation dataset. These are either malformed or have values that will trigger certain alarms later in this notebook. The code to add these can be seen in the `add_extra_rows()` function of `util.py` found in your Jupyter workspace. You can look at it later and even modify it after you've completed the entire exercise. For now, let's just execute the function and add the rows that we've defined by default."
   ]
  },
  {
   "cell_type": "code",
   "execution_count": 5,
   "metadata": {},
   "outputs": [
    {
     "data": {
      "text/html": [
       "<div>\n",
       "<style scoped>\n",
       "    .dataframe tbody tr th:only-of-type {\n",
       "        vertical-align: middle;\n",
       "    }\n",
       "\n",
       "    .dataframe tbody tr th {\n",
       "        vertical-align: top;\n",
       "    }\n",
       "\n",
       "    .dataframe thead th {\n",
       "        text-align: right;\n",
       "    }\n",
       "</style>\n",
       "<table border=\"1\" class=\"dataframe\">\n",
       "  <thead>\n",
       "    <tr style=\"text-align: right;\">\n",
       "      <th></th>\n",
       "      <th>39</th>\n",
       "      <th>State-gov</th>\n",
       "      <th>77516</th>\n",
       "      <th>Bachelors</th>\n",
       "      <th>13</th>\n",
       "      <th>Never-married</th>\n",
       "      <th>Adm-clerical</th>\n",
       "      <th>Not-in-family</th>\n",
       "      <th>White</th>\n",
       "      <th>Male</th>\n",
       "      <th>...</th>\n",
       "      <th>occupation</th>\n",
       "      <th>relationship</th>\n",
       "      <th>race</th>\n",
       "      <th>sex</th>\n",
       "      <th>capital-gain</th>\n",
       "      <th>capital-loss</th>\n",
       "      <th>hours-per-week</th>\n",
       "      <th>native-country</th>\n",
       "      <th>label</th>\n",
       "      <th>workclass</th>\n",
       "    </tr>\n",
       "  </thead>\n",
       "  <tbody>\n",
       "    <tr>\n",
       "      <th>6512</th>\n",
       "      <td>NaN</td>\n",
       "      <td>NaN</td>\n",
       "      <td>NaN</td>\n",
       "      <td>NaN</td>\n",
       "      <td>NaN</td>\n",
       "      <td>NaN</td>\n",
       "      <td>NaN</td>\n",
       "      <td>NaN</td>\n",
       "      <td>NaN</td>\n",
       "      <td>NaN</td>\n",
       "      <td>...</td>\n",
       "      <td>Plumber</td>\n",
       "      <td>Husband</td>\n",
       "      <td>Other</td>\n",
       "      <td>Male</td>\n",
       "      <td>1000.0</td>\n",
       "      <td>0.0</td>\n",
       "      <td>41.0</td>\n",
       "      <td>Australia</td>\n",
       "      <td>&gt;50K</td>\n",
       "      <td>NaN</td>\n",
       "    </tr>\n",
       "    <tr>\n",
       "      <th>6513</th>\n",
       "      <td>NaN</td>\n",
       "      <td>NaN</td>\n",
       "      <td>NaN</td>\n",
       "      <td>NaN</td>\n",
       "      <td>NaN</td>\n",
       "      <td>NaN</td>\n",
       "      <td>NaN</td>\n",
       "      <td>NaN</td>\n",
       "      <td>NaN</td>\n",
       "      <td>NaN</td>\n",
       "      <td>...</td>\n",
       "      <td>Adm-clerical</td>\n",
       "      <td>Wife</td>\n",
       "      <td>Asian</td>\n",
       "      <td>Female</td>\n",
       "      <td>0.0</td>\n",
       "      <td>0.0</td>\n",
       "      <td>40.0</td>\n",
       "      <td>Pakistan</td>\n",
       "      <td>&gt;50K</td>\n",
       "      <td>Private</td>\n",
       "    </tr>\n",
       "    <tr>\n",
       "      <th>6514</th>\n",
       "      <td>NaN</td>\n",
       "      <td>NaN</td>\n",
       "      <td>NaN</td>\n",
       "      <td>NaN</td>\n",
       "      <td>NaN</td>\n",
       "      <td>NaN</td>\n",
       "      <td>NaN</td>\n",
       "      <td>NaN</td>\n",
       "      <td>NaN</td>\n",
       "      <td>NaN</td>\n",
       "      <td>...</td>\n",
       "      <td>Prof-specialty</td>\n",
       "      <td>Husband</td>\n",
       "      <td>Black</td>\n",
       "      <td>Male</td>\n",
       "      <td>0.0</td>\n",
       "      <td>0.0</td>\n",
       "      <td>20.0</td>\n",
       "      <td>Cameroon</td>\n",
       "      <td>&lt;=50K</td>\n",
       "      <td>Private</td>\n",
       "    </tr>\n",
       "    <tr>\n",
       "      <th>6515</th>\n",
       "      <td>NaN</td>\n",
       "      <td>NaN</td>\n",
       "      <td>NaN</td>\n",
       "      <td>NaN</td>\n",
       "      <td>NaN</td>\n",
       "      <td>NaN</td>\n",
       "      <td>NaN</td>\n",
       "      <td>NaN</td>\n",
       "      <td>NaN</td>\n",
       "      <td>NaN</td>\n",
       "      <td>...</td>\n",
       "      <td>gamer</td>\n",
       "      <td>Husband</td>\n",
       "      <td>Asian</td>\n",
       "      <td>Female</td>\n",
       "      <td>0.0</td>\n",
       "      <td>0.0</td>\n",
       "      <td>50.0</td>\n",
       "      <td>Mongolia</td>\n",
       "      <td>&lt;=50K</td>\n",
       "      <td>?</td>\n",
       "    </tr>\n",
       "  </tbody>\n",
       "</table>\n",
       "<p>4 rows × 30 columns</p>\n",
       "</div>"
      ],
      "text/plain": [
       "      39 State-gov  77516 Bachelors  13 Never-married Adm-clerical  \\\n",
       "6512 NaN       NaN    NaN       NaN NaN           NaN          NaN   \n",
       "6513 NaN       NaN    NaN       NaN NaN           NaN          NaN   \n",
       "6514 NaN       NaN    NaN       NaN NaN           NaN          NaN   \n",
       "6515 NaN       NaN    NaN       NaN NaN           NaN          NaN   \n",
       "\n",
       "     Not-in-family White Male  ...      occupation  relationship   race  \\\n",
       "6512           NaN   NaN  NaN  ...         Plumber       Husband  Other   \n",
       "6513           NaN   NaN  NaN  ...    Adm-clerical          Wife  Asian   \n",
       "6514           NaN   NaN  NaN  ...  Prof-specialty       Husband  Black   \n",
       "6515           NaN   NaN  NaN  ...           gamer       Husband  Asian   \n",
       "\n",
       "         sex capital-gain  capital-loss  hours-per-week native-country  label  \\\n",
       "6512    Male       1000.0           0.0            41.0      Australia   >50K   \n",
       "6513  Female          0.0           0.0            40.0       Pakistan   >50K   \n",
       "6514    Male          0.0           0.0            20.0       Cameroon  <=50K   \n",
       "6515  Female          0.0           0.0            50.0       Mongolia  <=50K   \n",
       "\n",
       "     workclass  \n",
       "6512       NaN  \n",
       "6513   Private  \n",
       "6514   Private  \n",
       "6515         ?  \n",
       "\n",
       "[4 rows x 30 columns]"
      ]
     },
     "execution_count": 5,
     "metadata": {},
     "output_type": "execute_result"
    }
   ],
   "source": [
    "# add extra rows\n",
    "eval_df = add_extra_rows(eval_df)\n",
    "\n",
    "# preview the added rows\n",
    "eval_df.tail(4)"
   ]
  },
  {
   "cell_type": "markdown",
   "metadata": {
    "id": "Duwwrsvf_9bK"
   },
   "source": [
    "## Generate and visualize training dataset statistics"
   ]
  },
  {
   "cell_type": "markdown",
   "metadata": {
    "id": "5Nm5E1HAgPU0"
   },
   "source": [
    "You can now compute and visualize the statistics of your training dataset. TFDV accepts three input formats: TensorFlow’s TFRecord, Pandas Dataframe, and CSV file. In this exercise, you will feed in the Pandas Dataframes you generated from the train-test split. \n",
    "\n",
    "You can compute your dataset statistics by using the [`generate_statistics_from_dataframe()`](https://www.tensorflow.org/tfx/data_validation/api_docs/python/tfdv/generate_statistics_from_dataframe) method. Under the hood, it distributes the analysis via [Apache Beam](https://beam.apache.org/) which allows it to scale over large datasets.\n",
    "\n",
    "The results returned by this step for numerical and categorical data are summarized in this table:\n",
    "\n",
    "| Numerical Data | Categorical Data   |\n",
    "|:-:|:-:|\n",
    "|Count of data records|Count of data records\n",
    "|% of missing data records|% of missing data records|\n",
    "|Mean, std, min, max|unique records|\n",
    "|% of zero values|Avg string length|\n"
   ]
  },
  {
   "cell_type": "code",
   "execution_count": 6,
   "metadata": {
    "id": "_vTx9Qkk4yGc"
   },
   "outputs": [],
   "source": [
    "# Generate training dataset statistics\n",
    "train_stats = tfdv.generate_statistics_from_dataframe(train_df)"
   ]
  },
  {
   "cell_type": "markdown",
   "metadata": {
    "id": "86nhDglwuilJ"
   },
   "source": [
    "Once you've generated the statistics, you can easily visualize your results with the [`visualize_statistics()`](https://www.tensorflow.org/tfx/data_validation/api_docs/python/tfdv/visualize_statistics) method. This shows a [Facets interface](https://pair-code.github.io/facets/) and is very useful to spot if you have a high amount of missing data or high standard deviation. Run the cell below and explore the different settings in the output interface (e.g. Sort by, Reverse order, Feature search)."
   ]
  },
  {
   "cell_type": "code",
   "execution_count": 7,
   "metadata": {
    "id": "1D1wP3mm5ebW"
   },
   "outputs": [
    {
     "data": {
      "text/html": [
       "<iframe id='facets-iframe' width=\"100%\" height=\"500px\"></iframe>\n",
       "        <script>\n",
       "        facets_iframe = document.getElementById('facets-iframe');\n",
       "        facets_html = '<script src=\"https://cdnjs.cloudflare.com/ajax/libs/webcomponentsjs/1.3.3/webcomponents-lite.js\"><\\/script><link rel=\"import\" href=\"https://raw.githubusercontent.com/PAIR-code/facets/master/facets-dist/facets-jupyter.html\"><facets-overview proto-input=\"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\"></facets-overview>';\n",
       "        facets_iframe.srcdoc = facets_html;\n",
       "         facets_iframe.id = \"\";\n",
       "         setTimeout(() => {\n",
       "           facets_iframe.setAttribute('height', facets_iframe.contentWindow.document.body.offsetHeight + 'px')\n",
       "         }, 1500)\n",
       "         </script>"
      ],
      "text/plain": [
       "<IPython.core.display.HTML object>"
      ]
     },
     "metadata": {},
     "output_type": "display_data"
    }
   ],
   "source": [
    "# Visualize training dataset statistics\n",
    "tfdv.visualize_statistics(train_stats)"
   ]
  },
  {
   "cell_type": "markdown",
   "metadata": {
    "id": "DVQTOBpdgPU0"
   },
   "source": [
    "## Infer data schema"
   ]
  },
  {
   "cell_type": "markdown",
   "metadata": {
    "id": "Ya6ecHE9gPU1"
   },
   "source": [
    "Next step is to create a data schema to describe your train set. Simply put, a schema describes standard characteristics of your data such as column data types and expected data value range. The schema is created on a dataset that you consider as reference, and can be reused to validate other incoming datasets.\n",
    "\n",
    "With the computed statistics, TFDV allows you to automatically generate an initial version of the schema using the [`infer_schema()`](https://www.tensorflow.org/tfx/data_validation/api_docs/python/tfdv/infer_schema) method. This returns a Schema [protocol buffer](https://developers.google.com/protocol-buffers) containing the result. As mentioned in the [TFX paper](http://stevenwhang.com/tfx_paper.pdf) (Section 3.3), the results of the schema inference can be summarized as follows:\n",
    "\n",
    "* The expected type of each feature.\n",
    "* The expected presence of each feature, in terms of a minimum count and fraction of examples that must contain\n",
    "the feature.\n",
    "* The expected valency of the feature in each example, i.e.,\n",
    "minimum and maximum number of values.\n",
    "* The expected domain of a feature, i.e., the small universe of\n",
    "values for a string feature, or range for an integer feature.\n",
    "\n",
    "Run the cell below to infer the training dataset schema."
   ]
  },
  {
   "cell_type": "code",
   "execution_count": 8,
   "metadata": {
    "id": "W9skjM-M44Jz"
   },
   "outputs": [
    {
     "data": {
      "text/html": [
       "<div>\n",
       "<style scoped>\n",
       "    .dataframe tbody tr th:only-of-type {\n",
       "        vertical-align: middle;\n",
       "    }\n",
       "\n",
       "    .dataframe tbody tr th {\n",
       "        vertical-align: top;\n",
       "    }\n",
       "\n",
       "    .dataframe thead th {\n",
       "        text-align: right;\n",
       "    }\n",
       "</style>\n",
       "<table border=\"1\" class=\"dataframe\">\n",
       "  <thead>\n",
       "    <tr style=\"text-align: right;\">\n",
       "      <th></th>\n",
       "      <th>Type</th>\n",
       "      <th>Presence</th>\n",
       "      <th>Valency</th>\n",
       "      <th>Domain</th>\n",
       "    </tr>\n",
       "    <tr>\n",
       "      <th>Feature name</th>\n",
       "      <th></th>\n",
       "      <th></th>\n",
       "      <th></th>\n",
       "      <th></th>\n",
       "    </tr>\n",
       "  </thead>\n",
       "  <tbody>\n",
       "    <tr>\n",
       "      <th>'39'</th>\n",
       "      <td>INT</td>\n",
       "      <td>required</td>\n",
       "      <td></td>\n",
       "      <td>-</td>\n",
       "    </tr>\n",
       "    <tr>\n",
       "      <th>'State-gov'</th>\n",
       "      <td>STRING</td>\n",
       "      <td>required</td>\n",
       "      <td></td>\n",
       "      <td>'State-gov'</td>\n",
       "    </tr>\n",
       "    <tr>\n",
       "      <th>'77516'</th>\n",
       "      <td>INT</td>\n",
       "      <td>required</td>\n",
       "      <td></td>\n",
       "      <td>-</td>\n",
       "    </tr>\n",
       "    <tr>\n",
       "      <th>'Bachelors'</th>\n",
       "      <td>STRING</td>\n",
       "      <td>required</td>\n",
       "      <td></td>\n",
       "      <td>'Bachelors'</td>\n",
       "    </tr>\n",
       "    <tr>\n",
       "      <th>'13'</th>\n",
       "      <td>INT</td>\n",
       "      <td>required</td>\n",
       "      <td></td>\n",
       "      <td>-</td>\n",
       "    </tr>\n",
       "    <tr>\n",
       "      <th>'Never-married'</th>\n",
       "      <td>STRING</td>\n",
       "      <td>required</td>\n",
       "      <td></td>\n",
       "      <td>'Never-married'</td>\n",
       "    </tr>\n",
       "    <tr>\n",
       "      <th>'Adm-clerical'</th>\n",
       "      <td>STRING</td>\n",
       "      <td>required</td>\n",
       "      <td></td>\n",
       "      <td>'Adm-clerical'</td>\n",
       "    </tr>\n",
       "    <tr>\n",
       "      <th>'Not-in-family'</th>\n",
       "      <td>STRING</td>\n",
       "      <td>required</td>\n",
       "      <td></td>\n",
       "      <td>'Not-in-family'</td>\n",
       "    </tr>\n",
       "    <tr>\n",
       "      <th>'White'</th>\n",
       "      <td>STRING</td>\n",
       "      <td>required</td>\n",
       "      <td></td>\n",
       "      <td>'White'</td>\n",
       "    </tr>\n",
       "    <tr>\n",
       "      <th>'Male'</th>\n",
       "      <td>STRING</td>\n",
       "      <td>required</td>\n",
       "      <td></td>\n",
       "      <td>'Male'</td>\n",
       "    </tr>\n",
       "    <tr>\n",
       "      <th>'2174'</th>\n",
       "      <td>INT</td>\n",
       "      <td>required</td>\n",
       "      <td></td>\n",
       "      <td>-</td>\n",
       "    </tr>\n",
       "    <tr>\n",
       "      <th>'0'</th>\n",
       "      <td>INT</td>\n",
       "      <td>required</td>\n",
       "      <td></td>\n",
       "      <td>-</td>\n",
       "    </tr>\n",
       "    <tr>\n",
       "      <th>'40'</th>\n",
       "      <td>INT</td>\n",
       "      <td>required</td>\n",
       "      <td></td>\n",
       "      <td>-</td>\n",
       "    </tr>\n",
       "    <tr>\n",
       "      <th>'United-States'</th>\n",
       "      <td>STRING</td>\n",
       "      <td>required</td>\n",
       "      <td></td>\n",
       "      <td>'United-States'</td>\n",
       "    </tr>\n",
       "    <tr>\n",
       "      <th>'&lt;=50K'</th>\n",
       "      <td>STRING</td>\n",
       "      <td>required</td>\n",
       "      <td></td>\n",
       "      <td>'&lt;=50K'</td>\n",
       "    </tr>\n",
       "  </tbody>\n",
       "</table>\n",
       "</div>"
      ],
      "text/plain": [
       "                   Type  Presence Valency           Domain\n",
       "Feature name                                              \n",
       "'39'                INT  required                        -\n",
       "'State-gov'      STRING  required              'State-gov'\n",
       "'77516'             INT  required                        -\n",
       "'Bachelors'      STRING  required              'Bachelors'\n",
       "'13'                INT  required                        -\n",
       "'Never-married'  STRING  required          'Never-married'\n",
       "'Adm-clerical'   STRING  required           'Adm-clerical'\n",
       "'Not-in-family'  STRING  required          'Not-in-family'\n",
       "'White'          STRING  required                  'White'\n",
       "'Male'           STRING  required                   'Male'\n",
       "'2174'              INT  required                        -\n",
       "'0'                 INT  required                        -\n",
       "'40'                INT  required                        -\n",
       "'United-States'  STRING  required          'United-States'\n",
       "'<=50K'          STRING  required                  '<=50K'"
      ]
     },
     "metadata": {},
     "output_type": "display_data"
    },
    {
     "name": "stderr",
     "output_type": "stream",
     "text": [
      "C:\\Users\\fwu\\AppData\\Roaming\\Python\\Python38\\site-packages\\tensorflow_data_validation\\utils\\display_util.py:180: FutureWarning: Passing a negative integer is deprecated in version 1.0 and will not be supported in future version. Instead, use None to not limit the column width.\n",
      "  pd.set_option('max_colwidth', -1)\n"
     ]
    },
    {
     "data": {
      "text/html": [
       "<div>\n",
       "<style scoped>\n",
       "    .dataframe tbody tr th:only-of-type {\n",
       "        vertical-align: middle;\n",
       "    }\n",
       "\n",
       "    .dataframe tbody tr th {\n",
       "        vertical-align: top;\n",
       "    }\n",
       "\n",
       "    .dataframe thead th {\n",
       "        text-align: right;\n",
       "    }\n",
       "</style>\n",
       "<table border=\"1\" class=\"dataframe\">\n",
       "  <thead>\n",
       "    <tr style=\"text-align: right;\">\n",
       "      <th></th>\n",
       "      <th>Values</th>\n",
       "    </tr>\n",
       "    <tr>\n",
       "      <th>Domain</th>\n",
       "      <th></th>\n",
       "    </tr>\n",
       "  </thead>\n",
       "  <tbody>\n",
       "    <tr>\n",
       "      <th>'State-gov'</th>\n",
       "      <td>'?', 'Federal-gov', 'Local-gov', 'Never-worked', 'Private', 'Self-emp-inc', 'Self-emp-not-inc', 'State-gov', 'Without-pay'</td>\n",
       "    </tr>\n",
       "    <tr>\n",
       "      <th>'Bachelors'</th>\n",
       "      <td>'10th', '11th', '12th', '1st-4th', '5th-6th', '7th-8th', '9th', 'Assoc-acdm', 'Assoc-voc', 'Bachelors', 'Doctorate', 'HS-grad', 'Masters', 'Preschool', 'Prof-school', 'Some-college'</td>\n",
       "    </tr>\n",
       "    <tr>\n",
       "      <th>'Never-married'</th>\n",
       "      <td>'Divorced', 'Married-AF-spouse', 'Married-civ-spouse', 'Married-spouse-absent', 'Never-married', 'Separated', 'Widowed'</td>\n",
       "    </tr>\n",
       "    <tr>\n",
       "      <th>'Adm-clerical'</th>\n",
       "      <td>'?', 'Adm-clerical', 'Armed-Forces', 'Craft-repair', 'Exec-managerial', 'Farming-fishing', 'Handlers-cleaners', 'Machine-op-inspct', 'Other-service', 'Priv-house-serv', 'Prof-specialty', 'Protective-serv', 'Sales', 'Tech-support', 'Transport-moving'</td>\n",
       "    </tr>\n",
       "    <tr>\n",
       "      <th>'Not-in-family'</th>\n",
       "      <td>'Husband', 'Not-in-family', 'Other-relative', 'Own-child', 'Unmarried', 'Wife'</td>\n",
       "    </tr>\n",
       "    <tr>\n",
       "      <th>'White'</th>\n",
       "      <td>'Amer-Indian-Eskimo', 'Asian-Pac-Islander', 'Black', 'Other', 'White'</td>\n",
       "    </tr>\n",
       "    <tr>\n",
       "      <th>'Male'</th>\n",
       "      <td>'Female', 'Male'</td>\n",
       "    </tr>\n",
       "    <tr>\n",
       "      <th>'United-States'</th>\n",
       "      <td>'?', 'Cambodia', 'Canada', 'China', 'Columbia', 'Cuba', 'Dominican-Republic', 'Ecuador', 'El-Salvador', 'England', 'France', 'Germany', 'Greece', 'Guatemala', 'Haiti', 'Holand-Netherlands', 'Honduras', 'Hong', 'Hungary', 'India', 'Iran', 'Ireland', 'Italy', 'Jamaica', 'Japan', 'Laos', 'Mexico', 'Nicaragua', 'Outlying-US(Guam-USVI-etc)', 'Peru', 'Philippines', 'Poland', 'Portugal', 'Puerto-Rico', 'Scotland', 'South', 'Taiwan', 'Thailand', 'Trinadad&amp;Tobago', 'United-States', 'Vietnam', 'Yugoslavia'</td>\n",
       "    </tr>\n",
       "    <tr>\n",
       "      <th>'&lt;=50K'</th>\n",
       "      <td>'&lt;=50K', '&gt;50K'</td>\n",
       "    </tr>\n",
       "  </tbody>\n",
       "</table>\n",
       "</div>"
      ],
      "text/plain": [
       "                                                                                                                                                                                                                                                                                                                                                                                                                                                                                                                                Values\n",
       "Domain                                                                                                                                                                                                                                                                                                                                                                                                                                                                                                                                \n",
       "'State-gov'      '?', 'Federal-gov', 'Local-gov', 'Never-worked', 'Private', 'Self-emp-inc', 'Self-emp-not-inc', 'State-gov', 'Without-pay'                                                                                                                                                                                                                                                                                                                                                                                           \n",
       "'Bachelors'      '10th', '11th', '12th', '1st-4th', '5th-6th', '7th-8th', '9th', 'Assoc-acdm', 'Assoc-voc', 'Bachelors', 'Doctorate', 'HS-grad', 'Masters', 'Preschool', 'Prof-school', 'Some-college'                                                                                                                                                                                                                                                                                                                                \n",
       "'Never-married'  'Divorced', 'Married-AF-spouse', 'Married-civ-spouse', 'Married-spouse-absent', 'Never-married', 'Separated', 'Widowed'                                                                                                                                                                                                                                                                                                                                                                                              \n",
       "'Adm-clerical'   '?', 'Adm-clerical', 'Armed-Forces', 'Craft-repair', 'Exec-managerial', 'Farming-fishing', 'Handlers-cleaners', 'Machine-op-inspct', 'Other-service', 'Priv-house-serv', 'Prof-specialty', 'Protective-serv', 'Sales', 'Tech-support', 'Transport-moving'                                                                                                                                                                                                                                                            \n",
       "'Not-in-family'  'Husband', 'Not-in-family', 'Other-relative', 'Own-child', 'Unmarried', 'Wife'                                                                                                                                                                                                                                                                                                                                                                                                                                       \n",
       "'White'          'Amer-Indian-Eskimo', 'Asian-Pac-Islander', 'Black', 'Other', 'White'                                                                                                                                                                                                                                                                                                                                                                                                                                                \n",
       "'Male'           'Female', 'Male'                                                                                                                                                                                                                                                                                                                                                                                                                                                                                                     \n",
       "'United-States'  '?', 'Cambodia', 'Canada', 'China', 'Columbia', 'Cuba', 'Dominican-Republic', 'Ecuador', 'El-Salvador', 'England', 'France', 'Germany', 'Greece', 'Guatemala', 'Haiti', 'Holand-Netherlands', 'Honduras', 'Hong', 'Hungary', 'India', 'Iran', 'Ireland', 'Italy', 'Jamaica', 'Japan', 'Laos', 'Mexico', 'Nicaragua', 'Outlying-US(Guam-USVI-etc)', 'Peru', 'Philippines', 'Poland', 'Portugal', 'Puerto-Rico', 'Scotland', 'South', 'Taiwan', 'Thailand', 'Trinadad&Tobago', 'United-States', 'Vietnam', 'Yugoslavia'\n",
       "'<=50K'          '<=50K', '>50K'                                                                                                                                                                                                                                                                                                                                                                                                                                                                                                      "
      ]
     },
     "metadata": {},
     "output_type": "display_data"
    }
   ],
   "source": [
    "# Infer schema from the computed statistics.\n",
    "schema = tfdv.infer_schema(statistics=train_stats)\n",
    "\n",
    "# Display the inferred schema\n",
    "tfdv.display_schema(schema)"
   ]
  },
  {
   "cell_type": "markdown",
   "metadata": {
    "id": "5oj_GIprgPU1"
   },
   "source": [
    "## Generate and visualize evaluation dataset statistics"
   ]
  },
  {
   "cell_type": "markdown",
   "metadata": {
    "id": "rTYMPukogPU1"
   },
   "source": [
    "The next step after generating the schema is to now look at the evaluation dataset. You will begin by computing its statistics then compare it with the training statistics. It is important that the numerical and categorical features of the evaluation data belongs roughly to the same range as the training data. Otherwise, you might have distribution skew that will negatively affect the accuracy of your model.\n",
    "\n",
    "TFDV allows you to generate both the training and evaluation dataset statistics side-by-side. You can use the [`visualize_statistics()`](https://www.tensorflow.org/tfx/data_validation/api_docs/python/tfdv/visualize_statistics) function and pass additional parameters to overlay the statistics from both datasets (referenced as left-hand side and right-hand side statistics). Let's see what these parameters are:\n",
    "\n",
    "- `lhs_statistics`: Required parameter. Expects an instance of `DatasetFeatureStatisticsList `.\n",
    "\n",
    "\n",
    "- `rhs_statistics`: Expects an instance of `DatasetFeatureStatisticsList ` to compare with `lhs_statistics`.\n",
    "\n",
    "\n",
    "- `lhs_name`: Name of the `lhs_statistics` dataset.\n",
    "\n",
    "\n",
    "- `rhs_name`: Name of the `rhs_statistics` dataset."
   ]
  },
  {
   "cell_type": "code",
   "execution_count": 9,
   "metadata": {
    "id": "bzZy1x3c6Mi0",
    "scrolled": true
   },
   "outputs": [
    {
     "data": {
      "text/html": [
       "<iframe id='facets-iframe' width=\"100%\" height=\"500px\"></iframe>\n",
       "        <script>\n",
       "        facets_iframe = document.getElementById('facets-iframe');\n",
       "        facets_html = '<script src=\"https://cdnjs.cloudflare.com/ajax/libs/webcomponentsjs/1.3.3/webcomponents-lite.js\"><\\/script><link rel=\"import\" href=\"https://raw.githubusercontent.com/PAIR-code/facets/master/facets-dist/facets-jupyter.html\"><facets-overview proto-input=\"CsyoAQoMRVZBTF9EQVRBU0VUEPQyGr8HEAEatAcKuAII8DIQBBgBIAEtAACAPzKkAhobCQAAAAAAAPA/EQAAAAAAAPA/IZqZmZmZWYRAGhsJAAAAAAAA8D8RAAAAAAAA8D8hmpmZmZlZhEAaGwkAAAAAAADwPxEAAAAAAADwPyGamZmZmVmEQBobCQAAAAAAAPA/EQAAAAAAAPA/IZqZmZmZWYRAGhsJAAAAAAAA8D8RAAAAAAAA8D8hmpmZmZlZhEAaGwkAAAAAAADwPxEAAAAAAADwPyGamZmZmVmEQBobCQAAAAAAAPA/EQAAAAAAAPA/IZqZmZmZWYRAGhsJAAAAAAAA8D8RAAAAAAAA8D8hmpmZmZlZhEAaGwkAAAAAAADwPxEAAAAAAADwPyGamZmZmVmEQBobCQAAAAAAAPA/EQAAAAAAAPA/IZqZmZmZWYRAIAFA8DIRRWV5mdQyQ0AZQjXm9C7tKkApAAAAAAAAMUAxAAAAAACAQkA5AAAAAACAVkBCogIaGwkAAAAAAAAxQBHNzMzMzEw4QCFuowG8BW6RQBobCc3MzMzMTDhAEZqZmZmZmT9AIbivA+eMjJJAGhsJmpmZmZmZP0ARMzMzMzNzQ0AhzF1LyAeRk0AaGwkzMzMzM3NDQBGamZmZmRlHQCEjbHh6pcCSQBobCZqZmZmZGUdAEQAAAAAAwEpAIaW9wRcme4hAGhsJAAAAAADASkARZmZmZmZmTkAhV6g1zTvef0AaGwlmZmZmZmZOQBFmZmZmZgZRQCGL22gAb7F1QBobCWZmZmZmBlFAEZqZmZmZ2VJAIRXpt68Dp1VAGhsJmpmZmZnZUkARzczMzMysVEAh1XGKjuSyM0AaGwnNzMzMzKxUQBEAAAAAAIBWQCGGY13cRoMkQEKkAhobCQAAAAAAADFAEQAAAAAAADZAIZmZmZmZWYRAGhsJAAAAAAAANkARAAAAAAAAOkAhmZmZmZlZhEAaGwkAAAAAAAA6QBEAAAAAAAA9QCGZmZmZmVmEQBobCQAAAAAAAD1AEQAAAAAAgEBAIZmZmZmZWYRAGhsJAAAAAACAQEARAAAAAACAQkAhmZmZmZlZhEAaGwkAAAAAAIBCQBEAAAAAAIBEQCGZmZmZmVmEQBobCQAAAAAAgERAEQAAAAAAgEZAIZmZmZmZWYRAGhsJAAAAAACARkARAAAAAAAASUAhmZmZmZlZhEAaGwkAAAAAAABJQBEAAAAAAABNQCGZmZmZmVmEQBobCQAAAAAAAE1AEQAAAAAAgFZAIZmZmZmZWYRAIAFCBAoCMzkakQYQAiL/BQq4AgjwMhAEGAEgAS0AAIA/MqQCGhsJAAAAAAAA8D8RAAAAAAAA8D8hmpmZmZlZhEAaGwkAAAAAAADwPxEAAAAAAADwPyGamZmZmVmEQBobCQAAAAAAAPA/EQAAAAAAAPA/IZqZmZmZWYRAGhsJAAAAAAAA8D8RAAAAAAAA8D8hmpmZmZlZhEAaGwkAAAAAAADwPxEAAAAAAADwPyGamZmZmVmEQBobCQAAAAAAAPA/EQAAAAAAAPA/IZqZmZmZWYRAGhsJAAAAAAAA8D8RAAAAAAAA8D8hmpmZmZlZhEAaGwkAAAAAAADwPxEAAAAAAADwPyGamZmZmVmEQBobCQAAAAAAAPA/EQAAAAAAAPA/IZqZmZmZWYRAGhsJAAAAAAAA8D8RAAAAAAAA8D8hmpmZmZlZhEAgAUDwMhAJGhISB1ByaXZhdGUZAAAAAADisUAaGxIQU2VsZi1lbXAtbm90LWluYxkAAAAAAHB+QBoUEglMb2NhbC1nb3YZAAAAAACAeEAaDBIBPxkAAAAAAIB3QBoUEglTdGF0ZS1nb3YZAAAAAABwcEAaFxIMU2VsZi1lbXAtaW5jGQAAAAAAYGtAGhYSC0ZlZGVyYWwtZ292GQAAAAAA4GdAGhYSC1dpdGhvdXQtcGF5GQAAAAAAABBAGhcSDE5ldmVyLXdvcmtlZBkAAAAAAAAAQCX/JvpAKu0BChIiB1ByaXZhdGUpAAAAAADisUAKHwgBEAEiEFNlbGYtZW1wLW5vdC1pbmMpAAAAAABwfkAKGAgCEAIiCUxvY2FsLWdvdikAAAAAAIB4QAoQCAMQAyIBPykAAAAAAIB3QAoYCAQQBCIJU3RhdGUtZ292KQAAAAAAcHBAChsIBRAFIgxTZWxmLWVtcC1pbmMpAAAAAABga0AKGggGEAYiC0ZlZGVyYWwtZ292KQAAAAAA4GdAChoIBxAHIgtXaXRob3V0LXBheSkAAAAAAAAQQAobCAgQCCIMTmV2ZXItd29ya2VkKQAAAAAAAABAQgsKCVN0YXRlLWdvdhrCBxABGrQHCrgCCPAyEAQYASABLQAAgD8ypAIaGwkAAAAAAADwPxEAAAAAAADwPyGamZmZmVmEQBobCQAAAAAAAPA/EQAAAAAAAPA/IZqZmZmZWYRAGhsJAAAAAAAA8D8RAAAAAAAA8D8hmpmZmZlZhEAaGwkAAAAAAADwPxEAAAAAAADwPyGamZmZmVmEQBobCQAAAAAAAPA/EQAAAAAAAPA/IZqZmZmZWYRAGhsJAAAAAAAA8D8RAAAAAAAA8D8hmpmZmZlZhEAaGwkAAAAAAADwPxEAAAAAAADwPyGamZmZmVmEQBobCQAAAAAAAPA/EQAAAAAAAPA/IZqZmZmZWYRAGhsJAAAAAAAA8D8RAAAAAAAA8D8hmpmZmZlZhEAaGwkAAAAAAADwPxEAAAAAAADwPyGamZmZmVmEQCABQPAyERkPWCxCMwdBGYtsncFLFvpAKQAAAACA5MpAMQAAAAD4zQVBOQAAAADtLDFBQqICGhsJAAAAAIDkykARZmZmZpaB/kAhBWLfQjaxnEAaGwlmZmZmloH+QBFmZmZmTtMMQSHFID99GYSnQBobCWZmZmZO0wxBEczMzMzoMhVBIUBly3iDE5JAGhsJzMzMzOgyFUERZmZmZir8G0EhXRHRm3l1d0AaGwlmZmZmKvwbQREAAAAAtmIhQSFhwZVH0CJXQBobCQAAAAC2YiFBEczMzMxWxyRBIbU2bIracTZAGhsJzMzMzFbHJEERmZmZmfcrKEEhlf425rTKKEAaGwmZmZmZ9ysoQRFmZmZmmJArQSHBRSWisRwAQBobCWZmZmaYkCtBETMzMzM59S5BIcFFJaKxHABAGhsJMzMzMzn1LkERAAAAAO0sMUEhwUUlorEcAEBCpAIaGwkAAAAAgOTKQBEAAAAAwEzvQCGZmZmZmVmEQBobCQAAAADATO9AEQAAAADQo/lAIZmZmZmZWYRAGhsJAAAAANCj+UARAAAAAFCi/0AhmZmZmZlZhEAaGwkAAAAAUKL/QBEAAAAAmEEDQSGZmZmZmVmEQBobCQAAAACYQQNBEQAAAAD4zQVBIZmZmZmZWYRAGhsJAAAAAPjNBUERAAAAAMAOCEEhmZmZmZlZhEAaGwkAAAAAwA4IQREAAAAAeP8KQSGZmZmZmVmEQBobCQAAAAB4/wpBEQAAAACY4g9BIZmZmZmZWYRAGhsJAAAAAJjiD0ERAAAAAPgmFEEhmZmZmZlZhEAaGwkAAAAA+CYUQREAAAAA7SwxQSGZmZmZmVmEQCABQgcKBTc3NTE2GqEIEAIijwgKuAII8DIQBBgBIAEtAACAPzKkAhobCQAAAAAAAPA/EQAAAAAAAPA/IZqZmZmZWYRAGhsJAAAAAAAA8D8RAAAAAAAA8D8hmpmZmZlZhEAaGwkAAAAAAADwPxEAAAAAAADwPyGamZmZmVmEQBobCQAAAAAAAPA/EQAAAAAAAPA/IZqZmZmZWYRAGhsJAAAAAAAA8D8RAAAAAAAA8D8hmpmZmZlZhEAaGwkAAAAAAADwPxEAAAAAAADwPyGamZmZmVmEQBobCQAAAAAAAPA/EQAAAAAAAPA/IZqZmZmZWYRAGhsJAAAAAAAA8D8RAAAAAAAA8D8hmpmZmZlZhEAaGwkAAAAAAADwPxEAAAAAAADwPyGamZmZmVmEQBobCQAAAAAAAPA/EQAAAAAAAPA/IZqZmZmZWYRAIAFA8DIQEBoSEgdIUy1ncmFkGQAAAAAAIqBAGhcSDFNvbWUtY29sbGVnZRkAAAAAANyWQBoUEglCYWNoZWxvcnMZAAAAAABgkEAaEhIHTWFzdGVycxkAAAAAALB2QBoUEglBc3NvYy12b2MZAAAAAACQcUAaDxIEMTF0aBkAAAAAAMBsQBoVEgpBc3NvYy1hY2RtGQAAAAAAwGtAGg8SBDEwdGgZAAAAAAAgZkAaEhIHN3RoLTh0aBkAAAAAACBgQBoWEgtQcm9mLXNjaG9vbBkAAAAAAMBfQBoOEgM5dGgZAAAAAAAAWUAaDxIEMTJ0aBkAAAAAAEBXQBoUEglEb2N0b3JhdGUZAAAAAAAAVEAaEhIHNXRoLTZ0aBkAAAAAAIBTQBoSEgcxc3QtNHRoGQAAAAAAAEdAGhQSCVByZXNjaG9vbBkAAAAAAAAkQCWDKQdBKoMDChIiB0hTLWdyYWQpAAAAAAAioEAKGwgBEAEiDFNvbWUtY29sbGVnZSkAAAAAANyWQAoYCAIQAiIJQmFjaGVsb3JzKQAAAAAAYJBAChYIAxADIgdNYXN0ZXJzKQAAAAAAsHZAChgIBBAEIglBc3NvYy12b2MpAAAAAACQcUAKEwgFEAUiBDExdGgpAAAAAADAbEAKGQgGEAYiCkFzc29jLWFjZG0pAAAAAADAa0AKEwgHEAciBDEwdGgpAAAAAAAgZkAKFggIEAgiBzd0aC04dGgpAAAAAAAgYEAKGggJEAkiC1Byb2Ytc2Nob29sKQAAAAAAwF9AChIIChAKIgM5dGgpAAAAAAAAWUAKEwgLEAsiBDEydGgpAAAAAABAV0AKGAgMEAwiCURvY3RvcmF0ZSkAAAAAAABUQAoWCA0QDSIHNXRoLTZ0aCkAAAAAAIBTQAoWCA4QDiIHMXN0LTR0aCkAAAAAAABHQAoYCA8QDyIJUHJlc2Nob29sKQAAAAAAACRAQgsKCUJhY2hlbG9ycxq/BxABGrQHCrgCCPAyEAQYASABLQAAgD8ypAIaGwkAAAAAAADwPxEAAAAAAADwPyGamZmZmVmEQBobCQAAAAAAAPA/EQAAAAAAAPA/IZqZmZmZWYRAGhsJAAAAAAAA8D8RAAAAAAAA8D8hmpmZmZlZhEAaGwkAAAAAAADwPxEAAAAAAADwPyGamZmZmVmEQBobCQAAAAAAAPA/EQAAAAAAAPA/IZqZmZmZWYRAGhsJAAAAAAAA8D8RAAAAAAAA8D8hmpmZmZlZhEAaGwkAAAAAAADwPxEAAAAAAADwPyGamZmZmVmEQBobCQAAAAAAAPA/EQAAAAAAAPA/IZqZmZmZWYRAGhsJAAAAAAAA8D8RAAAAAAAA8D8hmpmZmZlZhEAaGwkAAAAAAADwPxEAAAAAAADwPyGamZmZmVmEQCABQPAyEZhJLQgFKCRAGfBaN7Cs6ARAKQAAAAAAAPA/MQAAAAAAACRAOQAAAAAAADBAQqICGhsJAAAAAAAA8D8RAAAAAAAABEAhkxgEVg6tS0AaGwkAAAAAAAAEQBEAAAAAAAAQQCGZmZmZmVlUQBobCQAAAAAAABBAEQAAAAAAABZAIWiR7Xw/FWxAGhsJAAAAAAAAFkARAAAAAAAAHEAhwvUoXI9iZkAaGwkAAAAAAAAcQBEAAAAAAAAhQCEu3SQGgSV0QBobCQAAAAAAACFAEQAAAAAAACRAIYXrUbgeJ6BAGhsJAAAAAAAAJEARAAAAAAAAJ0AhpHA9Ctc3m0AaGwkAAAAAAAAnQBEAAAAAAAAqQCFoke18PxVsQBobCQAAAAAAACpAEQAAAAAAAC1AIQisHFpkB5ZAGhsJAAAAAAAALUARAAAAAAAAMEAharx0kxikaUBCpAIaGwkAAAAAAADwPxEAAAAAAAAcQCGZmZmZmVmEQBobCQAAAAAAABxAEQAAAAAAACJAIZmZmZmZWYRAGhsJAAAAAAAAIkARAAAAAAAAIkAhmZmZmZlZhEAaGwkAAAAAAAAiQBEAAAAAAAAiQCGZmZmZmVmEQBobCQAAAAAAACJAEQAAAAAAACRAIZmZmZmZWYRAGhsJAAAAAAAAJEARAAAAAAAAJEAhmZmZmZlZhEAaGwkAAAAAAAAkQBEAAAAAAAAmQCGZmZmZmVmEQBobCQAAAAAAACZAEQAAAAAAACpAIZmZmZmZWYRAGhsJAAAAAAAAKkARAAAAAAAAKkAhmZmZmZlZhEAaGwkAAAAAAAAqQBEAAAAAAAAwQCGZmZmZmVmEQCABQgQKAjEzGuMFEAIizQUKuAII8DIQBBgBIAEtAACAPzKkAhobCQAAAAAAAPA/EQAAAAAAAPA/IZqZmZmZWYRAGhsJAAAAAAAA8D8RAAAAAAAA8D8hmpmZmZlZhEAaGwkAAAAAAADwPxEAAAAAAADwPyGamZmZmVmEQBobCQAAAAAAAPA/EQAAAAAAAPA/IZqZmZmZWYRAGhsJAAAAAAAA8D8RAAAAAAAA8D8hmpmZmZlZhEAaGwkAAAAAAADwPxEAAAAAAADwPyGamZmZmVmEQBobCQAAAAAAAPA/EQAAAAAAAPA/IZqZmZmZWYRAGhsJAAAAAAAA8D8RAAAAAAAA8D8hmpmZmZlZhEAaGwkAAAAAAADwPxEAAAAAAADwPyGamZmZmVmEQBobCQAAAAAAAPA/EQAAAAAAAPA/IZqZmZmZWYRAIAFA8DIQBxodEhJNYXJyaWVkLWNpdi1zcG91c2UZAAAAAADMp0AaGBINTmV2ZXItbWFycmllZBkAAAAAALCgQBoTEghEaXZvcmNlZBkAAAAAABCLQBoUEglTZXBhcmF0ZWQZAAAAAADgaEAaEhIHV2lkb3dlZBkAAAAAAIBnQBogEhVNYXJyaWVkLXNwb3VzZS1hYnNlbnQZAAAAAAAAUkAaHBIRTWFycmllZC1BRi1zcG91c2UZAAAAAAAAFEAluIRnQSrQAQodIhJNYXJyaWVkLWNpdi1zcG91c2UpAAAAAADMp0AKHAgBEAEiDU5ldmVyLW1hcnJpZWQpAAAAAACwoEAKFwgCEAIiCERpdm9yY2VkKQAAAAAAEItAChgIAxADIglTZXBhcmF0ZWQpAAAAAADgaEAKFggEEAQiB1dpZG93ZWQpAAAAAACAZ0AKJAgFEAUiFU1hcnJpZWQtc3BvdXNlLWFic2VudCkAAAAAAABSQAogCAYQBiIRTWFycmllZC1BRi1zcG91c2UpAAAAAAAAFEBCDwoNTmV2ZXItbWFycmllZBqWCRACIoEJCrgCCPAyEAQYASABLQAAgD8ypAIaGwkAAAAAAADwPxEAAAAAAADwPyGamZmZmVmEQBobCQAAAAAAAPA/EQAAAAAAAPA/IZqZmZmZWYRAGhsJAAAAAAAA8D8RAAAAAAAA8D8hmpmZmZlZhEAaGwkAAAAAAADwPxEAAAAAAADwPyGamZmZmVmEQBobCQAAAAAAAPA/EQAAAAAAAPA/IZqZmZmZWYRAGhsJAAAAAAAA8D8RAAAAAAAA8D8hmpmZmZlZhEAaGwkAAAAAAADwPxEAAAAAAADwPyGamZmZmVmEQBobCQAAAAAAAPA/EQAAAAAAAPA/IZqZmZmZWYRAGhsJAAAAAAAA8D8RAAAAAAAA8D8hmpmZmZlZhEAaGwkAAAAAAADwPxEAAAAAAADwPyGamZmZmVmEQCABQPAyEA8aGhIPRXhlYy1tYW5hZ2VyaWFsGQAAAAAAuIpAGhcSDENyYWZ0LXJlcGFpchkAAAAAAECKQBoZEg5Qcm9mLXNwZWNpYWx0eRkAAAAAAIiJQBoQEgVTYWxlcxkAAAAAAICGQBoXEgxBZG0tY2xlcmljYWwZAAAAAACghUAaGBINT3RoZXItc2VydmljZRkAAAAAANCDQBocEhFNYWNoaW5lLW9wLWluc3BjdBkAAAAAAGB5QBoMEgE/GQAAAAAAoHdAGhsSEFRyYW5zcG9ydC1tb3ZpbmcZAAAAAACwc0AaHBIRSGFuZGxlcnMtY2xlYW5lcnMZAAAAAACwc0AaGhIPRmFybWluZy1maXNoaW5nGQAAAAAAgGhAGhcSDFRlY2gtc3VwcG9ydBkAAAAAAEBoQBoaEg9Qcm90ZWN0aXZlLXNlcnYZAAAAAAAAX0AaGhIPUHJpdi1ob3VzZS1zZXJ2GQAAAAAAADlAGhcSDEFybWVkLUZvcmNlcxkAAAAAAADwPyWBxUNBKroDChoiD0V4ZWMtbWFuYWdlcmlhbCkAAAAAALiKQAobCAEQASIMQ3JhZnQtcmVwYWlyKQAAAAAAQIpACh0IAhACIg5Qcm9mLXNwZWNpYWx0eSkAAAAAAIiJQAoUCAMQAyIFU2FsZXMpAAAAAACAhkAKGwgEEAQiDEFkbS1jbGVyaWNhbCkAAAAAAKCFQAocCAUQBSINT3RoZXItc2VydmljZSkAAAAAANCDQAogCAYQBiIRTWFjaGluZS1vcC1pbnNwY3QpAAAAAABgeUAKEAgHEAciAT8pAAAAAACgd0AKHwgIEAgiEFRyYW5zcG9ydC1tb3ZpbmcpAAAAAACwc0AKIAgJEAkiEUhhbmRsZXJzLWNsZWFuZXJzKQAAAAAAsHNACh4IChAKIg9GYXJtaW5nLWZpc2hpbmcpAAAAAACAaEAKGwgLEAsiDFRlY2gtc3VwcG9ydCkAAAAAAEBoQAoeCAwQDCIPUHJvdGVjdGl2ZS1zZXJ2KQAAAAAAAF9ACh4IDRANIg9Qcml2LWhvdXNlLXNlcnYpAAAAAAAAOUAKGwgOEA4iDEFybWVkLUZvcmNlcykAAAAAAADwP0IOCgxBZG0tY2xlcmljYWwa+wQQAiLlBAq4AgjwMhAEGAEgAS0AAIA/MqQCGhsJAAAAAAAA8D8RAAAAAAAA8D8hmpmZmZlZhEAaGwkAAAAAAADwPxEAAAAAAADwPyGamZmZmVmEQBobCQAAAAAAAPA/EQAAAAAAAPA/IZqZmZmZWYRAGhsJAAAAAAAA8D8RAAAAAAAA8D8hmpmZmZlZhEAaGwkAAAAAAADwPxEAAAAAAADwPyGamZmZmVmEQBobCQAAAAAAAPA/EQAAAAAAAPA/IZqZmZmZWYRAGhsJAAAAAAAA8D8RAAAAAAAA8D8hmpmZmZlZhEAaGwkAAAAAAADwPxEAAAAAAADwPyGamZmZmVmEQBobCQAAAAAAAPA/EQAAAAAAAPA/IZqZmZmZWYRAGhsJAAAAAAAA8D8RAAAAAAAA8D8hmpmZmZlZhEAgAUDwMhAGGhISB0h1c2JhbmQZAAAAAAAOpUAaGBINTm90LWluLWZhbWlseRkAAAAAAMyYQBoUEglPd24tY2hpbGQZAAAAAACYj0AaFBIJVW5tYXJyaWVkGQAAAAAAuIVAGg8SBFdpZmUZAAAAAAAgc0AaGRIOT3RoZXItcmVsYXRpdmUZAAAAAABAa0Al0UURQSqaAQoSIgdIdXNiYW5kKQAAAAAADqVAChwIARABIg1Ob3QtaW4tZmFtaWx5KQAAAAAAzJhAChgIAhACIglPd24tY2hpbGQpAAAAAACYj0AKGAgDEAMiCVVubWFycmllZCkAAAAAALiFQAoTCAQQBCIEV2lmZSkAAAAAACBzQAodCAUQBSIOT3RoZXItcmVsYXRpdmUpAAAAAABAa0BCDwoNTm90LWluLWZhbWlseRrLBBACIr0ECrgCCPAyEAQYASABLQAAgD8ypAIaGwkAAAAAAADwPxEAAAAAAADwPyGamZmZmVmEQBobCQAAAAAAAPA/EQAAAAAAAPA/IZqZmZmZWYRAGhsJAAAAAAAA8D8RAAAAAAAA8D8hmpmZmZlZhEAaGwkAAAAAAADwPxEAAAAAAADwPyGamZmZmVmEQBobCQAAAAAAAPA/EQAAAAAAAPA/IZqZmZmZWYRAGhsJAAAAAAAA8D8RAAAAAAAA8D8hmpmZmZlZhEAaGwkAAAAAAADwPxEAAAAAAADwPyGamZmZmVmEQBobCQAAAAAAAPA/EQAAAAAAAPA/IZqZmZmZWYRAGhsJAAAAAAAA8D8RAAAAAAAA8D8hmpmZmZlZhEAaGwkAAAAAAADwPxEAAAAAAADwPyGamZmZmVmEQCABQPAyEAUaEBIFV2hpdGUZAAAAAACdtUAaEBIFQmxhY2sZAAAAAAA4hEAaHRISQXNpYW4tUGFjLUlzbGFuZGVyGQAAAAAAwGtAGh0SEkFtZXItSW5kaWFuLUVza2ltbxkAAAAAAIBNQBoQEgVPdGhlchkAAAAAAIBJQCVs87FAKoQBChAiBVdoaXRlKQAAAAAAnbVAChQIARABIgVCbGFjaykAAAAAADiEQAohCAIQAiISQXNpYW4tUGFjLUlzbGFuZGVyKQAAAAAAwGtACiEIAxADIhJBbWVyLUluZGlhbi1Fc2tpbW8pAAAAAACATUAKFAgEEAQiBU90aGVyKQAAAAAAgElAQgcKBVdoaXRlGp0DEAIikAMKuAII8DIQBBgBIAEtAACAPzKkAhobCQAAAAAAAPA/EQAAAAAAAPA/IZqZmZmZWYRAGhsJAAAAAAAA8D8RAAAAAAAA8D8hmpmZmZlZhEAaGwkAAAAAAADwPxEAAAAAAADwPyGamZmZmVmEQBobCQAAAAAAAPA/EQAAAAAAAPA/IZqZmZmZWYRAGhsJAAAAAAAA8D8RAAAAAAAA8D8hmpmZmZlZhEAaGwkAAAAAAADwPxEAAAAAAADwPyGamZmZmVmEQBobCQAAAAAAAPA/EQAAAAAAAPA/IZqZmZmZWYRAGhsJAAAAAAAA8D8RAAAAAAAA8D8hmpmZmZlZhEAaGwkAAAAAAADwPxEAAAAAAADwPyGamZmZmVmEQBobCQAAAAAAAPA/EQAAAAAAAPA/IZqZmZmZWYRAIAFA8DIQAhoPEgRNYWxlGQAAAAAAB7FAGhESBkZlbWFsZRkAAAAAANKgQCXiKJVAKigKDyIETWFsZSkAAAAAAAexQAoVCAEQASIGRmVtYWxlKQAAAAAA0qBAQgYKBE1hbGUa/QUQARrwBQq4AgjwMhAEGAEgAS0AAIA/MqQCGhsJAAAAAAAA8D8RAAAAAAAA8D8hmpmZmZlZhEAaGwkAAAAAAADwPxEAAAAAAADwPyGamZmZmVmEQBobCQAAAAAAAPA/EQAAAAAAAPA/IZqZmZmZWYRAGhsJAAAAAAAA8D8RAAAAAAAA8D8hmpmZmZlZhEAaGwkAAAAAAADwPxEAAAAAAADwPyGamZmZmVmEQBobCQAAAAAAAPA/EQAAAAAAAPA/IZqZmZmZWYRAGhsJAAAAAAAA8D8RAAAAAAAA8D8hmpmZmZlZhEAaGwkAAAAAAADwPxEAAAAAAADwPyGamZmZmVmEQBobCQAAAAAAAPA/EQAAAAAAAPA/IZqZmZmZWYRAGhsJAAAAAAAA8D8RAAAAAAAA8D8hmpmZmZlZhEAgAUDwMhFb6Xv9G9ePQBk1OWNCaUW7QCDaLjkAAAAA8Gn4QEKZAhoSETMzMzPzh8NAIQl9qdO/3bhAGhsJMzMzM/OHw0ARMzMzM/OH00Ahjr0GKmwmWUAaGwkzMzMz84fTQBHMzMzM7EvdQCECSjP4kpIqQBobCczMzMzsS91AETMzMzPzh+NAITFibm2U3+w/GhsJMzMzM/OH40ARAAAAAPBp6EAhMWJubZTf7D8aGwkAAAAA8GnoQBHMzMzM7EvtQCErYm5tlN/sPxobCczMzMzsS+1AEc3MzMz0FvFAITdibm2U3+w/GhsJzczMzPQW8UARMzMzM/OH80AhK2JubZTf7D8aGwkzMzMz84fzQBGZmZmZ8fj1QCErYm5tlN/sPxobCZmZmZnx+PVAEQAAAADwafhAIVCoyV1G8zpAQnkaCSGZmZmZmVmEQBoJIZmZmZmZWYRAGgkhmZmZmZlZhEAaCSGZmZmZmVmEQBoJIZmZmZmZWYRAGgkhmZmZmZlZhEAaCSGZmZmZmVmEQBoJIZmZmZmZWYRAGgkhmZmZmZlZhEAaEhEAAAAA8Gn4QCGZmZmZmVmEQCABQgYKBDIxNzQa+gUQARrwBQq4AgjwMhAEGAEgAS0AAIA/MqQCGhsJAAAAAAAA8D8RAAAAAAAA8D8hmpmZmZlZhEAaGwkAAAAAAADwPxEAAAAAAADwPyGamZmZmVmEQBobCQAAAAAAAPA/EQAAAAAAAPA/IZqZmZmZWYRAGhsJAAAAAAAA8D8RAAAAAAAA8D8hmpmZmZlZhEAaGwkAAAAAAADwPxEAAAAAAADwPyGamZmZmVmEQBobCQAAAAAAAPA/EQAAAAAAAPA/IZqZmZmZWYRAGhsJAAAAAAAA8D8RAAAAAAAA8D8hmpmZmZlZhEAaGwkAAAAAAADwPxEAAAAAAADwPyGamZmZmVmEQBobCQAAAAAAAPA/EQAAAAAAAPA/IZqZmZmZWYRAGhsJAAAAAAAA8D8RAAAAAAAA8D8hmpmZmZlZhEAgAUDwMhGu9L3+TXxWQBk7bW2igHx5QCC2MDkAAAAAAASxQEKZAhoSEZqZmZmZOXtAIQiqqqRgOLhAGhsJmpmZmZk5e0ARmpmZmZk5i0AhywbsqoCCDUAaGwmamZmZmTmLQBE0MzMzM2uUQCEWGJ0vYy8ZQBobCTQzMzMza5RAEZqZmZmZOZtAISsuE14rV1dAGhsJmpmZmZk5m0ARAAAAAAAEoUAhFvpqcJLTZEAaGwkAAAAAAAShQBE0MzMzM2ukQCFb6d/PeZhBQBobCTQzMzMza6RAEWdmZmZm0qdAIfVUs2L34/k/GhsJZ2ZmZmbSp0ARmpmZmZk5q0Ah9VSzYvfj+T8aGwmamZmZmTmrQBHNzMzMzKCuQCH1VLNi9+P5PxobCc3MzMzMoK5AEQAAAAAABLFAIfVUs2L34/k/QnkaCSGZmZmZmVmEQBoJIZmZmZmZWYRAGgkhmZmZmZlZhEAaCSGZmZmZmVmEQBoJIZmZmZmZWYRAGgkhmZmZmZlZhEAaCSGZmZmZmVmEQBoJIZmZmZmZWYRAGgkhmZmZmZlZhEAaEhEAAAAAAASxQCGZmZmZmVmEQCABQgMKATAavwcQARq0Bwq4AgjwMhAEGAEgAS0AAIA/MqQCGhsJAAAAAAAA8D8RAAAAAAAA8D8hmpmZmZlZhEAaGwkAAAAAAADwPxEAAAAAAADwPyGamZmZmVmEQBobCQAAAAAAAPA/EQAAAAAAAPA/IZqZmZmZWYRAGhsJAAAAAAAA8D8RAAAAAAAA8D8hmpmZmZlZhEAaGwkAAAAAAADwPxEAAAAAAADwPyGamZmZmVmEQBobCQAAAAAAAPA/EQAAAAAAAPA/IZqZmZmZWYRAGhsJAAAAAAAA8D8RAAAAAAAA8D8hmpmZmZlZhEAaGwkAAAAAAADwPxEAAAAAAADwPyGamZmZmVmEQBobCQAAAAAAAPA/EQAAAAAAAPA/IZqZmZmZWYRAGhsJAAAAAAAA8D8RAAAAAAAA8D8hmpmZmZlZhEAgAUDwMhHks24wRUZEQBllhgOK9gIpQCkAAAAAAADwPzEAAAAAAABEQDkAAAAAAMBYQEKiAhobCQAAAAAAAPA/EZqZmZmZmSVAIVbsL7snj2JAGhsJmpmZmZmZJUARmpmZmZmZNEAh/dR46Sbhe0AaGwmamZmZmZk0QBFnZmZmZmY+QCEPC7Wmebd7QBobCWdmZmZmZj5AEZqZmZmZGURAIepztRX7TatAGhsJmpmZmZkZREARAAAAAAAASUAhh6dXyjLsg0AaGwkAAAAAAABJQBFnZmZmZuZNQCHEQq1p3gGKQBobCWdmZmZm5k1AEWdmZmZmZlFAIe18PzVe+nVAGhsJZ2ZmZmZmUUARmpmZmZnZU0AhqKROQBOhVkAaGwmamZmZmdlTQBHNzMzMzExWQCG211xImtJAQBobCc3MzMzMTFZAEQAAAAAAwFhAIW6mL3HRtkBAQqQCGhsJAAAAAAAA8D8RAAAAAAAAOEAhmZmZmZlZhEAaGwkAAAAAAAA4QBEAAAAAAIBBQCGZmZmZmVmEQBobCQAAAAAAgEFAEQAAAAAAAERAIZmZmZmZWYRAGhsJAAAAAAAAREARAAAAAAAAREAhmZmZmZlZhEAaGwkAAAAAAABEQBEAAAAAAABEQCGZmZmZmVmEQBobCQAAAAAAAERAEQAAAAAAAERAIZmZmZmZWYRAGhsJAAAAAAAAREARAAAAAAAARUAhmZmZmZlZhEAaGwkAAAAAAABFQBEAAAAAAABJQCGZmZmZmVmEQBobCQAAAAAAAElAEQAAAAAAgEtAIZmZmZmZWYRAGhsJAAAAAACAS0ARAAAAAADAWEAhmZmZmZlZhEAgAUIECgI0MBroDRACItINCrgCCPAyEAQYASABLQAAgD8ypAIaGwkAAAAAAADwPxEAAAAAAADwPyGamZmZmVmEQBobCQAAAAAAAPA/EQAAAAAAAPA/IZqZmZmZWYRAGhsJAAAAAAAA8D8RAAAAAAAA8D8hmpmZmZlZhEAaGwkAAAAAAADwPxEAAAAAAADwPyGamZmZmVmEQBobCQAAAAAAAPA/EQAAAAAAAPA/IZqZmZmZWYRAGhsJAAAAAAAA8D8RAAAAAAAA8D8hmpmZmZlZhEAaGwkAAAAAAADwPxEAAAAAAADwPyGamZmZmVmEQBobCQAAAAAAAPA/EQAAAAAAAPA/IZqZmZmZWYRAGhsJAAAAAAAA8D8RAAAAAAAA8D8hmpmZmZlZhEAaGwkAAAAAAADwPxEAAAAAAADwPyGamZmZmVmEQCABQPAyECkaGBINVW5pdGVkLVN0YXRlcxkAAAAAALe2QBoREgZNZXhpY28ZAAAAAADAYEAaDBIBPxkAAAAAAEBdQBoWEgtQaGlsaXBwaW5lcxkAAAAAAIBDQBoSEgdHZXJtYW55GQAAAAAAAD9AGhYSC0VsLVNhbHZhZG9yGQAAAAAAAD5AGhASBUluZGlhGQAAAAAAAD1AGg8SBEN1YmEZAAAAAAAANUAaEhIHSmFtYWljYRkAAAAAAAA0QBoQEgVJdGFseRkAAAAAAAAyQBoREgZDYW5hZGEZAAAAAAAAMkAaEhIHVmlldG5hbRkAAAAAAAAuQBodEhJEb21pbmljYW4tUmVwdWJsaWMZAAAAAAAALkAaFhILUHVlcnRvLVJpY28ZAAAAAAAALEAaEBIFU291dGgZAAAAAAAAKkAaExIIQ29sdW1iaWEZAAAAAAAAKkAaEBIFSmFwYW4ZAAAAAAAAKEAaEhIHRW5nbGFuZBkAAAAAAAAoQBoQEgVDaGluYRkAAAAAAAAoQBoUEglHdWF0ZW1hbGEZAAAAAAAAJkAleZlEQSryBwoYIg1Vbml0ZWQtU3RhdGVzKQAAAAAAt7ZAChUIARABIgZNZXhpY28pAAAAAADAYEAKEAgCEAIiAT8pAAAAAABAXUAKGggDEAMiC1BoaWxpcHBpbmVzKQAAAAAAgENAChYIBBAEIgdHZXJtYW55KQAAAAAAAD9AChoIBRAFIgtFbC1TYWx2YWRvcikAAAAAAAA+QAoUCAYQBiIFSW5kaWEpAAAAAAAAPUAKEwgHEAciBEN1YmEpAAAAAAAANUAKFggIEAgiB0phbWFpY2EpAAAAAAAANEAKFAgJEAkiBUl0YWx5KQAAAAAAADJAChUIChAKIgZDYW5hZGEpAAAAAAAAMkAKFggLEAsiB1ZpZXRuYW0pAAAAAAAALkAKIQgMEAwiEkRvbWluaWNhbi1SZXB1YmxpYykAAAAAAAAuQAoaCA0QDSILUHVlcnRvLVJpY28pAAAAAAAALEAKFAgOEA4iBVNvdXRoKQAAAAAAACpAChcIDxAPIghDb2x1bWJpYSkAAAAAAAAqQAoUCBAQECIFSmFwYW4pAAAAAAAAKEAKFggREBEiB0VuZ2xhbmQpAAAAAAAAKEAKFAgSEBIiBUNoaW5hKQAAAAAAAChAChgIExATIglHdWF0ZW1hbGEpAAAAAAAAJkAKFwgUEBQiCFBvcnR1Z2FsKQAAAAAAACJAChYIFRAVIgdFY3VhZG9yKQAAAAAAACJAChMIFhAWIgRQZXJ1KQAAAAAAACBAChMIFxAXIgRMYW9zKQAAAAAAACBAChMIGBAYIgRIb25nKQAAAAAAACBACh4IGRAZIg9UcmluYWRhZCZUb2JhZ28pAAAAAAAAHEAKFQgaEBoiBlRhaXdhbikAAAAAAAAcQAoVCBsQGyIGUG9sYW5kKQAAAAAAABxAChgIHBAcIglOaWNhcmFndWEpAAAAAAAAHEAKKQgdEB0iGk91dGx5aW5nLVVTKEd1YW0tVVNWSS1ldGMpKQAAAAAAABhAChQIHhAeIgVIYWl0aSkAAAAAAAAYQAoVCB8QHyIGR3JlZWNlKQAAAAAAABhAChUIIBAgIgZGcmFuY2UpAAAAAAAAGEAKGQghECEiCll1Z29zbGF2aWEpAAAAAAAAFEAKEwgiECIiBElyYW4pAAAAAAAAFEAKFggjECMiB0lyZWxhbmQpAAAAAAAAEEAKFwgkECQiCEhvbmR1cmFzKQAAAAAAABBAChcIJRAlIghTY290bGFuZCkAAAAAAAAIQAoWCCYQJiIHSHVuZ2FyeSkAAAAAAAAIQAoXCCcQJyIIQ2FtYm9kaWEpAAAAAAAACEAKFwgoECgiCFRoYWlsYW5kKQAAAAAAAABAQg8KDVVuaXRlZC1TdGF0ZXManAMQAiKOAwq4AgjwMhAEGAEgAS0AAIA/MqQCGhsJAAAAAAAA8D8RAAAAAAAA8D8hmpmZmZlZhEAaGwkAAAAAAADwPxEAAAAAAADwPyGamZmZmVmEQBobCQAAAAAAAPA/EQAAAAAAAPA/IZqZmZmZWYRAGhsJAAAAAAAA8D8RAAAAAAAA8D8hmpmZmZlZhEAaGwkAAAAAAADwPxEAAAAAAADwPyGamZmZmVmEQBobCQAAAAAAAPA/EQAAAAAAAPA/IZqZmZmZWYRAGhsJAAAAAAAA8D8RAAAAAAAA8D8hmpmZmZlZhEAaGwkAAAAAAADwPxEAAAAAAADwPyGamZmZmVmEQBobCQAAAAAAAPA/EQAAAAAAAPA/IZqZmZmZWYRAGhsJAAAAAAAA8D8RAAAAAAAA8D8hmpmZmZlZhEAgAUDwMhACGhASBTw9NTBLGQAAAAAAMLNAGg8SBD41MEsZAAAAAAAAmUAlOSOYQConChAiBTw9NTBLKQAAAAAAMLNAChMIARABIgQ+NTBLKQAAAAAAAJlAQgcKBTw9NTBLGoIHEAEa9gYKtwIIBBDwMhgBIAEtAACAPzKkAhobCQAAAAAAAPA/EQAAAAAAAPA/IZqZmZmZmdk/GhsJAAAAAAAA8D8RAAAAAAAA8D8hmpmZmZmZ2T8aGwkAAAAAAADwPxEAAAAAAADwPyGamZmZmZnZPxobCQAAAAAAAPA/EQAAAAAAAPA/IZqZmZmZmdk/GhsJAAAAAAAA8D8RAAAAAAAA8D8hmpmZmZmZ2T8aGwkAAAAAAADwPxEAAAAAAADwPyGamZmZmZnZPxobCQAAAAAAAPA/EQAAAAAAAPA/IZqZmZmZmdk/GhsJAAAAAAAA8D8RAAAAAAAA8D8hmpmZmZmZ2T8aGwkAAAAAAADwPxEAAAAAAADwPyGamZmZmZnZPxobCQAAAAAAAPA/EQAAAAAAAPA/IZqZmZmZmdk/IAFABBEAAAAAALxwQBkYDp1sQHF6QCABMQAAAAAAAEdAOQAAAAAAQI9AQpkCGhIRAAAAAAAAWUAhnO4BjkX4B0AaGwkAAAAAAABZQBEAAAAAAABpQCGtmq/ceHo7PxobCQAAAAAAAGlAEQAAAAAAwHJAIa2ar9x4ejs/GhsJAAAAAADAckARAAAAAAAAeUAhrZqv3Hh6Oz8aGwkAAAAAAAB5QBEAAAAAAEB/QCGtmq/ceHo7PxobCQAAAAAAQH9AEQAAAAAAwIJAIa2ar9x4ejs/GhsJAAAAAADAgkARAAAAAADghUAhrZqv3Hh6Oz8aGwkAAAAAAOCFQBEAAAAAAACJQCGtmq/ceHo7PxobCQAAAAAAAIlAEQAAAAAAIIxAIa2ar9x4ejs/GhsJAAAAAAAgjEARAAAAAABAj0Ah+sqNp7cB8D9C9wEaCSGamZmZmZnZPxoJIZqZmZmZmdk/GhIRAAAAAAAAOUAhmpmZmZmZ2T8aGwkAAAAAAAA5QBEAAAAAAAA5QCGamZmZmZnZPxobCQAAAAAAADlAEQAAAAAAAEdAIZqZmZmZmdk/GhsJAAAAAAAAR0ARAAAAAAAAR0AhmpmZmZmZ2T8aGwkAAAAAAABHQBEAAAAAAABHQCGamZmZmZnZPxobCQAAAAAAAEdAEQAAAAAAQI9AIZqZmZmZmdk/GhsJAAAAAABAj0ARAAAAAABAj0AhmpmZmZmZ2T8aGwkAAAAAAECPQBEAAAAAAECPQCGamZmZmZnZPyABQgUKA2FnZRqzBRABGqQFCrcCCAQQ8DIYASABLQAAgD8ypAIaGwkAAAAAAADwPxEAAAAAAADwPyGamZmZmZnZPxobCQAAAAAAAPA/EQAAAAAAAPA/IZqZmZmZmdk/GhsJAAAAAAAA8D8RAAAAAAAA8D8hmpmZmZmZ2T8aGwkAAAAAAADwPxEAAAAAAADwPyGamZmZmZnZPxobCQAAAAAAAPA/EQAAAAAAAPA/IZqZmZmZmdk/GhsJAAAAAAAA8D8RAAAAAAAA8D8hmpmZmZmZ2T8aGwkAAAAAAADwPxEAAAAAAADwPyGamZmZmZnZPxobCQAAAAAAAPA/EQAAAAAAAPA/IZqZmZmZmdk/GhsJAAAAAAAA8D8RAAAAAAAA8D8hmpmZmZmZ2T8aGwkAAAAAAADwPxEAAAAAAADwPyGamZmZmZnZPyABQAQRAAAAAAhuD0EpAAAAAAhuD0ExAAAAAAhuD0E5AAAAAAhuD0FCHRobCQAAAAAIbg9BEQAAAAAIbg9BIQAAAAAAABBAQqQCGhsJAAAAAAhuD0ERAAAAAAhuD0EhmpmZmZmZ2T8aGwkAAAAACG4PQREAAAAACG4PQSGamZmZmZnZPxobCQAAAAAIbg9BEQAAAAAIbg9BIZqZmZmZmdk/GhsJAAAAAAhuD0ERAAAAAAhuD0EhmpmZmZmZ2T8aGwkAAAAACG4PQREAAAAACG4PQSGamZmZmZnZPxobCQAAAAAIbg9BEQAAAAAIbg9BIZqZmZmZmdk/GhsJAAAAAAhuD0ERAAAAAAhuD0EhmpmZmZmZ2T8aGwkAAAAACG4PQREAAAAACG4PQSGamZmZmZnZPxobCQAAAAAIbg9BEQAAAAAIbg9BIZqZmZmZmdk/GhsJAAAAAAhuD0ERAAAAAAhuD0EhmpmZmZmZ2T8gAUIICgZmbmx3Z3QarQMQAiKbAwq3AggEEPAyGAEgAS0AAIA/MqQCGhsJAAAAAAAA8D8RAAAAAAAA8D8hmpmZmZmZ2T8aGwkAAAAAAADwPxEAAAAAAADwPyGamZmZmZnZPxobCQAAAAAAAPA/EQAAAAAAAPA/IZqZmZmZmdk/GhsJAAAAAAAA8D8RAAAAAAAA8D8hmpmZmZmZ2T8aGwkAAAAAAADwPxEAAAAAAADwPyGamZmZmZnZPxobCQAAAAAAAPA/EQAAAAAAAPA/IZqZmZmZmdk/GhsJAAAAAAAA8D8RAAAAAAAA8D8hmpmZmZmZ2T8aGwkAAAAAAADwPxEAAAAAAADwPyGamZmZmZnZPxobCQAAAAAAAPA/EQAAAAAAAPA/IZqZmZmZmdk/GhsJAAAAAAAA8D8RAAAAAAAA8D8hmpmZmZmZ2T8gAUAEEAIaEhIHTWFzdGVycxkAAAAAAAAIQBoUEglCYWNoZWxvcnMZAAAAAAAA8D8lAADwQCouChIiB01hc3RlcnMpAAAAAAAACEAKGAgBEAEiCUJhY2hlbG9ycykAAAAAAADwP0ILCgllZHVjYXRpb24augUQARqkBQq3AggEEPAyGAEgAS0AAIA/MqQCGhsJAAAAAAAA8D8RAAAAAAAA8D8hmpmZmZmZ2T8aGwkAAAAAAADwPxEAAAAAAADwPyGamZmZmZnZPxobCQAAAAAAAPA/EQAAAAAAAPA/IZqZmZmZmdk/GhsJAAAAAAAA8D8RAAAAAAAA8D8hmpmZmZmZ2T8aGwkAAAAAAADwPxEAAAAAAADwPyGamZmZmZnZPxobCQAAAAAAAPA/EQAAAAAAAPA/IZqZmZmZmdk/GhsJAAAAAAAA8D8RAAAAAAAA8D8hmpmZmZmZ2T8aGwkAAAAAAADwPxEAAAAAAADwPyGamZmZmZnZPxobCQAAAAAAAPA/EQAAAAAAAPA/IZqZmZmZmdk/GhsJAAAAAAAA8D8RAAAAAAAA8D8hmpmZmZmZ2T8gAUAEEQAAAAAAACBAKQAAAAAAACBAMQAAAAAAACBAOQAAAAAAACBAQh0aGwkAAAAAAAAgQBEAAAAAAAAgQCEAAAAAAAAQQEKkAhobCQAAAAAAACBAEQAAAAAAACBAIZqZmZmZmdk/GhsJAAAAAAAAIEARAAAAAAAAIEAhmpmZmZmZ2T8aGwkAAAAAAAAgQBEAAAAAAAAgQCGamZmZmZnZPxobCQAAAAAAACBAEQAAAAAAACBAIZqZmZmZmdk/GhsJAAAAAAAAIEARAAAAAAAAIEAhmpmZmZmZ2T8aGwkAAAAAAAAgQBEAAAAAAAAgQCGamZmZmZnZPxobCQAAAAAAACBAEQAAAAAAACBAIZqZmZmZmdk/GhsJAAAAAAAAIEARAAAAAAAAIEAhmpmZmZmZ2T8aGwkAAAAAAAAgQBEAAAAAAAAgQCGamZmZmZnZPxobCQAAAAAAACBAEQAAAAAAACBAIZqZmZmZmdk/IAFCDwoNZWR1Y2F0aW9uLW51bRqYAxACIoEDCrcCCAQQ8DIYASABLQAAgD8ypAIaGwkAAAAAAADwPxEAAAAAAADwPyGamZmZmZnZPxobCQAAAAAAAPA/EQAAAAAAAPA/IZqZmZmZmdk/GhsJAAAAAAAA8D8RAAAAAAAA8D8hmpmZmZmZ2T8aGwkAAAAAAADwPxEAAAAAAADwPyGamZmZmZnZPxobCQAAAAAAAPA/EQAAAAAAAPA/IZqZmZmZmdk/GhsJAAAAAAAA8D8RAAAAAAAA8D8hmpmZmZmZ2T8aGwkAAAAAAADwPxEAAAAAAADwPyGamZmZmZnZPxobCQAAAAAAAPA/EQAAAAAAAPA/IZqZmZmZmdk/GhsJAAAAAAAA8D8RAAAAAAAA8D8hmpmZmZmZ2T8aGwkAAAAAAADwPxEAAAAAAADwPyGamZmZmZnZPyABQAQQARodEhJNYXJyaWVkLWNpdi1zcG91c2UZAAAAAAAAEEAlAACQQSofCh0iEk1hcnJpZWQtY2l2LXNwb3VzZSkAAAAAAAAQQEIQCg5tYXJpdGFsLXN0YXR1cxqWBBACIoMECrcCCAQQ8DIYASABLQAAgD8ypAIaGwkAAAAAAADwPxEAAAAAAADwPyGamZmZmZnZPxobCQAAAAAAAPA/EQAAAAAAAPA/IZqZmZmZmdk/GhsJAAAAAAAA8D8RAAAAAAAA8D8hmpmZmZmZ2T8aGwkAAAAAAADwPxEAAAAAAADwPyGamZmZmZnZPxobCQAAAAAAAPA/EQAAAAAAAPA/IZqZmZmZmdk/GhsJAAAAAAAA8D8RAAAAAAAA8D8hmpmZmZmZ2T8aGwkAAAAAAADwPxEAAAAAAADwPyGamZmZmZnZPxobCQAAAAAAAPA/EQAAAAAAAPA/IZqZmZmZmdk/GhsJAAAAAAAA8D8RAAAAAAAA8D8hmpmZmZmZ2T8aGwkAAAAAAADwPxEAAAAAAADwPyGamZmZmZnZPyABQAQQBBoQEgVnYW1lchkAAAAAAADwPxoZEg5Qcm9mLXNwZWNpYWx0eRkAAAAAAADwPxoSEgdQbHVtYmVyGQAAAAAAAPA/GhcSDEFkbS1jbGVyaWNhbBkAAAAAAADwPyUAABhBKmYKECIFZ2FtZXIpAAAAAAAA8D8KHQgBEAEiDlByb2Ytc3BlY2lhbHR5KQAAAAAAAPA/ChYIAhACIgdQbHVtYmVyKQAAAAAAAPA/ChsIAxADIgxBZG0tY2xlcmljYWwpAAAAAAAA8D9CDAoKb2NjdXBhdGlvbhqmAxACIpEDCrcCCAQQ8DIYASABLQAAgD8ypAIaGwkAAAAAAADwPxEAAAAAAADwPyGamZmZmZnZPxobCQAAAAAAAPA/EQAAAAAAAPA/IZqZmZmZmdk/GhsJAAAAAAAA8D8RAAAAAAAA8D8hmpmZmZmZ2T8aGwkAAAAAAADwPxEAAAAAAADwPyGamZmZmZnZPxobCQAAAAAAAPA/EQAAAAAAAPA/IZqZmZmZmdk/GhsJAAAAAAAA8D8RAAAAAAAA8D8hmpmZmZmZ2T8aGwkAAAAAAADwPxEAAAAAAADwPyGamZmZmZnZPxobCQAAAAAAAPA/EQAAAAAAAPA/IZqZmZmZmdk/GhsJAAAAAAAA8D8RAAAAAAAA8D8hmpmZmZmZ2T8aGwkAAAAAAADwPxEAAAAAAADwPyGamZmZmZnZPyABQAQQAhoSEgdIdXNiYW5kGQAAAAAAAAhAGg8SBFdpZmUZAAAAAAAA8D8lAADIQCopChIiB0h1c2JhbmQpAAAAAAAACEAKEwgBEAEiBFdpZmUpAAAAAAAA8D9CDgoMcmVsYXRpb25zaGlwGsQDEAIitwMKtwIIBBDwMhgBIAEtAACAPzKkAhobCQAAAAAAAPA/EQAAAAAAAPA/IZqZmZmZmdk/GhsJAAAAAAAA8D8RAAAAAAAA8D8hmpmZmZmZ2T8aGwkAAAAAAADwPxEAAAAAAADwPyGamZmZmZnZPxobCQAAAAAAAPA/EQAAAAAAAPA/IZqZmZmZmdk/GhsJAAAAAAAA8D8RAAAAAAAA8D8hmpmZmZmZ2T8aGwkAAAAAAADwPxEAAAAAAADwPyGamZmZmZnZPxobCQAAAAAAAPA/EQAAAAAAAPA/IZqZmZmZmdk/GhsJAAAAAAAA8D8RAAAAAAAA8D8hmpmZmZmZ2T8aGwkAAAAAAADwPxEAAAAAAADwPyGamZmZmZnZPxobCQAAAAAAAPA/EQAAAAAAAPA/IZqZmZmZmdk/IAFABBADGhASBUFzaWFuGQAAAAAAAABAGhASBU90aGVyGQAAAAAAAPA/GhASBUJsYWNrGQAAAAAAAPA/JQAAoEAqPgoQIgVBc2lhbikAAAAAAAAAQAoUCAEQASIFT3RoZXIpAAAAAAAA8D8KFAgCEAIiBUJsYWNrKQAAAAAAAPA/QgYKBHJhY2UamwMQAiKPAwq3AggEEPAyGAEgAS0AAIA/MqQCGhsJAAAAAAAA8D8RAAAAAAAA8D8hmpmZmZmZ2T8aGwkAAAAAAADwPxEAAAAAAADwPyGamZmZmZnZPxobCQAAAAAAAPA/EQAAAAAAAPA/IZqZmZmZmdk/GhsJAAAAAAAA8D8RAAAAAAAA8D8hmpmZmZmZ2T8aGwkAAAAAAADwPxEAAAAAAADwPyGamZmZmZnZPxobCQAAAAAAAPA/EQAAAAAAAPA/IZqZmZmZmdk/GhsJAAAAAAAA8D8RAAAAAAAA8D8hmpmZmZmZ2T8aGwkAAAAAAADwPxEAAAAAAADwPyGamZmZmZnZPxobCQAAAAAAAPA/EQAAAAAAAPA/IZqZmZmZmdk/GhsJAAAAAAAA8D8RAAAAAAAA8D8hmpmZmZmZ2T8gAUAEEAIaDxIETWFsZRkAAAAAAAAAQBoREgZGZW1hbGUZAAAAAAAAAEAlAACgQCooCg8iBE1hbGUpAAAAAAAAAEAKFQgBEAEiBkZlbWFsZSkAAAAAAAAAQEIFCgNzZXgaqAYQARqTBgq3AggEEPAyGAEgAS0AAIA/MqQCGhsJAAAAAAAA8D8RAAAAAAAA8D8hmpmZmZmZ2T8aGwkAAAAAAADwPxEAAAAAAADwPyGamZmZmZnZPxobCQAAAAAAAPA/EQAAAAAAAPA/IZqZmZmZmdk/GhsJAAAAAAAA8D8RAAAAAAAA8D8hmpmZmZmZ2T8aGwkAAAAAAADwPxEAAAAAAADwPyGamZmZmZnZPxobCQAAAAAAAPA/EQAAAAAAAPA/IZqZmZmZmdk/GhsJAAAAAAAA8D8RAAAAAAAA8D8hmpmZmZmZ2T8aGwkAAAAAAADwPxEAAAAAAADwPyGamZmZmZnZPxobCQAAAAAAAPA/EQAAAAAAAPA/IZqZmZmZmdk/GhsJAAAAAAAA8D8RAAAAAAAA8D8hmpmZmZmZ2T8gAUAEEQAAAAAAQG9AGd465gY0EHtAIAM5AAAAAABAj0BCmQIaEhEAAAAAAABZQCEN4C2QoPgHQBobCQAAAAAAAFlAEQAAAAAAAGlAIS1DHOviNjo/GhsJAAAAAAAAaUARAAAAAADAckAhLUMc6+I2Oj8aGwkAAAAAAMByQBEAAAAAAAB5QCEtQxzr4jY6PxobCQAAAAAAAHlAEQAAAAAAQH9AIS1DHOviNjo/GhsJAAAAAABAf0ARAAAAAADAgkAhLUMc6+I2Oj8aGwkAAAAAAMCCQBEAAAAAAOCFQCEtQxzr4jY6PxobCQAAAAAA4IVAEQAAAAAAAIlAIS1DHOviNjo/GhsJAAAAAAAAiUARAAAAAAAgjEAhLUMc6+I2Oj8aGwkAAAAAACCMQBEAAAAAAECPQCHEsS5uowHwP0KdARoJIZqZmZmZmdk/GgkhmpmZmZmZ2T8aCSGamZmZmZnZPxoJIZqZmZmZmdk/GgkhmpmZmZmZ2T8aCSGamZmZmZnZPxoJIZqZmZmZmdk/GhIRAAAAAABAj0AhmpmZmZmZ2T8aGwkAAAAAAECPQBEAAAAAAECPQCGamZmZmZnZPxobCQAAAAAAQI9AEQAAAAAAQI9AIZqZmZmZmdk/IAFCDgoMY2FwaXRhbC1nYWluGtADEAEauwMKtwIIBBDwMhgBIAEtAACAPzKkAhobCQAAAAAAAPA/EQAAAAAAAPA/IZqZmZmZmdk/GhsJAAAAAAAA8D8RAAAAAAAA8D8hmpmZmZmZ2T8aGwkAAAAAAADwPxEAAAAAAADwPyGamZmZmZnZPxobCQAAAAAAAPA/EQAAAAAAAPA/IZqZmZmZmdk/GhsJAAAAAAAA8D8RAAAAAAAA8D8hmpmZmZmZ2T8aGwkAAAAAAADwPxEAAAAAAADwPyGamZmZmZnZPxobCQAAAAAAAPA/EQAAAAAAAPA/IZqZmZmZmdk/GhsJAAAAAAAA8D8RAAAAAAAA8D8hmpmZmZmZ2T8aGwkAAAAAAADwPxEAAAAAAADwPyGamZmZmZnZPxobCQAAAAAAAPA/EQAAAAAAAPA/IZqZmZmZmdk/IAFABCAEQgsaCSEAAAAAAAAQQEJwGgkhmpmZmZmZ2T8aCSGamZmZmZnZPxoJIZqZmZmZmdk/GgkhmpmZmZmZ2T8aCSGamZmZmZnZPxoJIZqZmZmZmdk/GgkhmpmZmZmZ2T8aCSGamZmZmZnZPxoJIZqZmZmZmdk/GgkhmpmZmZmZ2T8gAUIOCgxjYXBpdGFsLWxvc3MaygcQARqzBwq3AggEEPAyGAEgAS0AAIA/MqQCGhsJAAAAAAAA8D8RAAAAAAAA8D8hmpmZmZmZ2T8aGwkAAAAAAADwPxEAAAAAAADwPyGamZmZmZnZPxobCQAAAAAAAPA/EQAAAAAAAPA/IZqZmZmZmdk/GhsJAAAAAAAA8D8RAAAAAAAA8D8hmpmZmZmZ2T8aGwkAAAAAAADwPxEAAAAAAADwPyGamZmZmZnZPxobCQAAAAAAAPA/EQAAAAAAAPA/IZqZmZmZmdk/GhsJAAAAAAAA8D8RAAAAAAAA8D8hmpmZmZmZ2T8aGwkAAAAAAADwPxEAAAAAAADwPyGamZmZmZnZPxobCQAAAAAAAPA/EQAAAAAAAPA/IZqZmZmZmdk/GhsJAAAAAAAA8D8RAAAAAAAA8D8hmpmZmZmZ2T8gAUAEEQAAAAAA4EJAGabdfR4P7SVAKQAAAAAAADRAMQAAAAAAgERAOQAAAAAAAElAQqICGhsJAAAAAAAANEARAAAAAAAAN0Ah+THmriXk7z8aGwkAAAAAAAA3QBEAAAAAAAA6QCFiMlUwKqlDPxobCQAAAAAAADpAEQAAAAAAAD1AIWIyVTAqqUM/GhsJAAAAAAAAPUARAAAAAAAAQEAhYjJVMCqpQz8aGwkAAAAAAABAQBEAAAAAAIBBQCFiMlUwKqlDPxobCQAAAAAAgEFAEQAAAAAAAENAIWIyVTAqqUM/GhsJAAAAAAAAQ0ARAAAAAACAREAhxLEubqMB8D8aGwkAAAAAAIBEQBEAAAAAAABGQCEdEzyYJ+rvPxobCQAAAAAAAEZAEQAAAAAAgEdAIaXi7MNn2FU/GhsJAAAAAACAR0ARAAAAAAAASUAhOfvwGXYF8D9CpAIaGwkAAAAAAAA0QBEAAAAAAAA0QCGamZmZmZnZPxobCQAAAAAAADRAEQAAAAAAADRAIZqZmZmZmdk/GhsJAAAAAAAANEARAAAAAAAAREAhmpmZmZmZ2T8aGwkAAAAAAABEQBEAAAAAAABEQCGamZmZmZnZPxobCQAAAAAAAERAEQAAAAAAgERAIZqZmZmZmdk/GhsJAAAAAACAREARAAAAAACAREAhmpmZmZmZ2T8aGwkAAAAAAIBEQBEAAAAAAIBEQCGamZmZmZnZPxobCQAAAAAAgERAEQAAAAAAAElAIZqZmZmZmdk/GhsJAAAAAAAASUARAAAAAAAASUAhmpmZmZmZ2T8aGwkAAAAAAABJQBEAAAAAAABJQCGamZmZmZnZPyABQhAKDmhvdXJzLXBlci13ZWVrGpAEEAIi+QMKtwIIBBDwMhgBIAEtAACAPzKkAhobCQAAAAAAAPA/EQAAAAAAAPA/IZqZmZmZmdk/GhsJAAAAAAAA8D8RAAAAAAAA8D8hmpmZmZmZ2T8aGwkAAAAAAADwPxEAAAAAAADwPyGamZmZmZnZPxobCQAAAAAAAPA/EQAAAAAAAPA/IZqZmZmZmdk/GhsJAAAAAAAA8D8RAAAAAAAA8D8hmpmZmZmZ2T8aGwkAAAAAAADwPxEAAAAAAADwPyGamZmZmZnZPxobCQAAAAAAAPA/EQAAAAAAAPA/IZqZmZmZmdk/GhsJAAAAAAAA8D8RAAAAAAAA8D8hmpmZmZmZ2T8aGwkAAAAAAADwPxEAAAAAAADwPyGamZmZmZnZPxobCQAAAAAAAPA/EQAAAAAAAPA/IZqZmZmZmdk/IAFABBAEGhMSCFBha2lzdGFuGQAAAAAAAPA/GhMSCE1vbmdvbGlhGQAAAAAAAPA/GhMSCENhbWVyb29uGQAAAAAAAPA/GhQSCUF1c3RyYWxpYRkAAAAAAADwPyUAAARBKmEKEyIIUGFraXN0YW4pAAAAAAAA8D8KFwgBEAEiCE1vbmdvbGlhKQAAAAAAAPA/ChcIAhACIghDYW1lcm9vbikAAAAAAADwPwoYCAMQAyIJQXVzdHJhbGlhKQAAAAAAAPA/QhAKDm5hdGl2ZS1jb3VudHJ5GpsDEAIijQMKtwIIBBDwMhgBIAEtAACAPzKkAhobCQAAAAAAAPA/EQAAAAAAAPA/IZqZmZmZmdk/GhsJAAAAAAAA8D8RAAAAAAAA8D8hmpmZmZmZ2T8aGwkAAAAAAADwPxEAAAAAAADwPyGamZmZmZnZPxobCQAAAAAAAPA/EQAAAAAAAPA/IZqZmZmZmdk/GhsJAAAAAAAA8D8RAAAAAAAA8D8hmpmZmZmZ2T8aGwkAAAAAAADwPxEAAAAAAADwPyGamZmZmZnZPxobCQAAAAAAAPA/EQAAAAAAAPA/IZqZmZmZmdk/GhsJAAAAAAAA8D8RAAAAAAAA8D8hmpmZmZmZ2T8aGwkAAAAAAADwPxEAAAAAAADwPyGamZmZmZnZPxobCQAAAAAAAPA/EQAAAAAAAPA/IZqZmZmZmdk/IAFABBACGg8SBD41MEsZAAAAAAAAAEAaEBIFPD01MEsZAAAAAAAAAEAlAACQQConCg8iBD41MEspAAAAAAAAAEAKFAgBEAEiBTw9NTBLKQAAAAAAAABAQgcKBWxhYmVsGp0DEAIiiwMKtwIIAxDxMhgBIAEtAACAPzKkAhobCQAAAAAAAPA/EQAAAAAAAPA/ITMzMzMzM9M/GhsJAAAAAAAA8D8RAAAAAAAA8D8hMzMzMzMz0z8aGwkAAAAAAADwPxEAAAAAAADwPyEzMzMzMzPTPxobCQAAAAAAAPA/EQAAAAAAAPA/ITMzMzMzM9M/GhsJAAAAAAAA8D8RAAAAAAAA8D8hMzMzMzMz0z8aGwkAAAAAAADwPxEAAAAAAADwPyEzMzMzMzPTPxobCQAAAAAAAPA/EQAAAAAAAPA/ITMzMzMzM9M/GhsJAAAAAAAA8D8RAAAAAAAA8D8hMzMzMzMz0z8aGwkAAAAAAADwPxEAAAAAAADwPyEzMzMzMzPTPxobCQAAAAAAAPA/EQAAAAAAAPA/ITMzMzMzM9M/IAFAAxACGhISB1ByaXZhdGUZAAAAAAAAAEAaDBIBPxkAAAAAAADwPyUAAKBAKiYKEiIHUHJpdmF0ZSkAAAAAAAAAQAoQCAEQASIBPykAAAAAAADwP0ILCgl3b3JrY2xhc3MK32UKDVRSQUlOX0RBVEFTRVQQwMsBGr0HGrQHCrgCCMDLARgBIAEtAACAPzKkAhobCQAAAAAAAPA/EQAAAAAAAPA/IZqZmZmZWaRAGhsJAAAAAAAA8D8RAAAAAAAA8D8hmpmZmZlZpEAaGwkAAAAAAADwPxEAAAAAAADwPyGamZmZmVmkQBobCQAAAAAAAPA/EQAAAAAAAPA/IZqZmZmZWaRAGhsJAAAAAAAA8D8RAAAAAAAA8D8hmpmZmZlZpEAaGwkAAAAAAADwPxEAAAAAAADwPyGamZmZmVmkQBobCQAAAAAAAPA/EQAAAAAAAPA/IZqZmZmZWaRAGhsJAAAAAAAA8D8RAAAAAAAA8D8hmpmZmZlZpEAaGwkAAAAAAADwPxEAAAAAAADwPyGamZmZmVmkQBobCQAAAAAAAPA/EQAAAAAAAPA/IZqZmZmZWaRAIAFAwMsBEaksL5NaUENAGa3Y+8EyXitAKQAAAAAAADFAMQAAAAAAgEJAOQAAAAAAgFZAQqICGhsJAAAAAAAAMUARzczMzMxMOEAhOUVHcvlTsUAaGwnNzMzMzEw4QBGamZmZmZk/QCGDUUmdgHKyQBobCZqZmZmZmT9AETMzMzMzc0NAISJseHqlwLJAGhsJMzMzMzNzQ0ARmpmZmZkZR0AhYqHWNO9cs0AaGwmamZmZmRlHQBEAAAAAAMBKQCF6Nqs+V+OoQBobCQAAAAAAwEpAEWZmZmZmZk5AIQFNhA1PV6BAGhsJZmZmZmZmTkARZmZmZmYGUUAhjQbwFkhAk0AaGwlmZmZmZgZRQBGamZmZmdlSQCG9rwPnjOh4QBobCZqZmZmZ2VJAEc3MzMzMrFRAIVDBqKROAGVAGhsJzczMzMysVEARAAAAAACAVkAhaqyL22gATEBCpAIaGwkAAAAAAAAxQBEAAAAAAAA2QCGZmZmZmVmkQBobCQAAAAAAADZAEQAAAAAAADpAIZmZmZmZWaRAGhsJAAAAAAAAOkARAAAAAAAAPkAhmZmZmZlZpEAaGwkAAAAAAAA+QBEAAAAAAIBAQCGZmZmZmVmkQBobCQAAAAAAgEBAEQAAAAAAgEJAIZmZmZmZWaRAGhsJAAAAAACAQkARAAAAAACAREAhmZmZmZlZpEAaGwkAAAAAAIBEQBEAAAAAAIBGQCGZmZmZmVmkQBobCQAAAAAAgEZAEQAAAAAAAElAIZmZmZmZWaRAGhsJAAAAAAAASUARAAAAAAAATUAhmZmZmZlZpEAaGwkAAAAAAABNQBEAAAAAAIBWQCGZmZmZmVmkQCABQgQKAjM5GpEGEAIi/wUKuAIIwMsBGAEgAS0AAIA/MqQCGhsJAAAAAAAA8D8RAAAAAAAA8D8hmpmZmZlZpEAaGwkAAAAAAADwPxEAAAAAAADwPyGamZmZmVmkQBobCQAAAAAAAPA/EQAAAAAAAPA/IZqZmZmZWaRAGhsJAAAAAAAA8D8RAAAAAAAA8D8hmpmZmZlZpEAaGwkAAAAAAADwPxEAAAAAAADwPyGamZmZmVmkQBobCQAAAAAAAPA/EQAAAAAAAPA/IZqZmZmZWaRAGhsJAAAAAAAA8D8RAAAAAAAA8D8hmpmZmZlZpEAaGwkAAAAAAADwPxEAAAAAAADwPyGamZmZmVmkQBobCQAAAAAAAPA/EQAAAAAAAPA/IZqZmZmZWaRAGhsJAAAAAAAA8D8RAAAAAAAA8D8hmpmZmZlZpEAgAUDAywEQCRoSEgdQcml2YXRlGQAAAACAsdFAGhsSEFNlbGYtZW1wLW5vdC1pbmMZAAAAAAAMoEAaFBIJTG9jYWwtZ292GQAAAAAAlJpAGgwSAT8ZAAAAAADQlkAaFBIJU3RhdGUtZ292GQAAAAAAKJBAGhcSDFNlbGYtZW1wLWluYxkAAAAAAAiMQBoWEgtGZWRlcmFsLWdvdhkAAAAAAAiIQBoWEgtXaXRob3V0LXBheRkAAAAAAAAkQBoXEgxOZXZlci13b3JrZWQZAAAAAAAAFEAlbwn8QCrtAQoSIgdQcml2YXRlKQAAAACAsdFACh8IARABIhBTZWxmLWVtcC1ub3QtaW5jKQAAAAAADKBAChgIAhACIglMb2NhbC1nb3YpAAAAAACUmkAKEAgDEAMiAT8pAAAAAADQlkAKGAgEEAQiCVN0YXRlLWdvdikAAAAAACiQQAobCAUQBSIMU2VsZi1lbXAtaW5jKQAAAAAACIxAChoIBhAGIgtGZWRlcmFsLWdvdikAAAAAAAiIQAoaCAcQByILV2l0aG91dC1wYXkpAAAAAAAAJEAKGwgIEAgiDE5ldmVyLXdvcmtlZCkAAAAAAAAUQEILCglTdGF0ZS1nb3YawAcatAcKuAIIwMsBGAEgAS0AAIA/MqQCGhsJAAAAAAAA8D8RAAAAAAAA8D8hmpmZmZlZpEAaGwkAAAAAAADwPxEAAAAAAADwPyGamZmZmVmkQBobCQAAAAAAAPA/EQAAAAAAAPA/IZqZmZmZWaRAGhsJAAAAAAAA8D8RAAAAAAAA8D8hmpmZmZlZpEAaGwkAAAAAAADwPxEAAAAAAADwPyGamZmZmVmkQBobCQAAAAAAAPA/EQAAAAAAAPA/IZqZmZmZWaRAGhsJAAAAAAAA8D8RAAAAAAAA8D8hmpmZmZlZpEAaGwkAAAAAAADwPxEAAAAAAADwPyGamZmZmVmkQBobCQAAAAAAAPA/EQAAAAAAAPA/IZqZmZmZWaRAGhsJAAAAAAAA8D8RAAAAAAAA8D8hmpmZmZlZpEAgAUDAywERZMe1mYkoB0EZ1dXxtjWw+UApAAAAAID+x0AxAAAAAHjEBUE5AAAAAKGnNkFCogIaGwkAAAAAgP7HQBEAAAAAOHkDQSGj6NQj6HLEQBobCQAAAAA4eQNBEQAAAABEuRJBIZtMiZYJCMhAGhsJAAAAAES5EkERAAAAAOy1G0EhQHZ85GvbpUAaGwkAAAAA7LUbQREAAAAASlkiQSGqBq1wsdx2QBobCQAAAABKWSJBEQAAAACe1yZBIdbC5yr2MVRAGhsJAAAAAJ7XJkERAAAAAPJVK0EhqxybPBdkIUAaGwkAAAAA8lUrQREAAAAARtQvQSERXZ2wnSEVQBobCQAAAABG1C9BEQAAAABNKTJBIRFdnbCdIRVAGhsJAAAAAE0pMkERAAAAAHdoNEEhEV2dsJ0hFUAaGwkAAAAAd2g0QREAAAAAoac2QSERXZ2wnSEVQEKkAhobCQAAAACA/sdAEQAAAACAM/BAIZmZmZmZWaRAGhsJAAAAAIAz8EARAAAAAEAZ+kAhmZmZmZlZpEAaGwkAAAAAQBn6QBEAAAAAEAcAQSGZmZmZmVmkQBobCQAAAAAQBwBBEQAAAABgZgNBIZmZmZmZWaRAGhsJAAAAAGBmA0ERAAAAAHjEBUEhmZmZmZlZpEAaGwkAAAAAeMQFQREAAAAAmPYHQSGZmZmZmVmkQBobCQAAAACY9gdBEQAAAADgyApBIZmZmZmZWaRAGhsJAAAAAODICkERAAAAALCtD0EhmZmZmZlZpEAaGwkAAAAAsK0PQREAAAAAdA8UQSGZmZmZmVmkQBobCQAAAAB0DxRBEQAAAAChpzZBIZmZmZmZWaRAIAFCBwoFNzc1MTYaoQgQAiKPCAq4AgjAywEYASABLQAAgD8ypAIaGwkAAAAAAADwPxEAAAAAAADwPyGamZmZmVmkQBobCQAAAAAAAPA/EQAAAAAAAPA/IZqZmZmZWaRAGhsJAAAAAAAA8D8RAAAAAAAA8D8hmpmZmZlZpEAaGwkAAAAAAADwPxEAAAAAAADwPyGamZmZmVmkQBobCQAAAAAAAPA/EQAAAAAAAPA/IZqZmZmZWaRAGhsJAAAAAAAA8D8RAAAAAAAA8D8hmpmZmZlZpEAaGwkAAAAAAADwPxEAAAAAAADwPyGamZmZmVmkQBobCQAAAAAAAPA/EQAAAAAAAPA/IZqZmZmZWaRAGhsJAAAAAAAA8D8RAAAAAAAA8D8hmpmZmZlZpEAaGwkAAAAAAADwPxEAAAAAAADwPyGamZmZmVmkQCABQMDLARAQGhISB0hTLWdyYWQZAAAAAAB6wEAaFxIMU29tZS1jb2xsZWdlGQAAAAAAxLZAGhQSCUJhY2hlbG9ycxkAAAAAANKwQBoSEgdNYXN0ZXJzGQAAAAAAQJVAGhQSCUFzc29jLXZvYxkAAAAAADSRQBoPEgQxMXRoGQAAAAAAiI1AGhUSCkFzc29jLWFjZG0ZAAAAAABoikAaDxIEMTB0aBkAAAAAAKCHQBoSEgc3dGgtOHRoGQAAAAAAKIBAGhYSC1Byb2Ytc2Nob29sGQAAAAAAEHxAGg4SAzl0aBkAAAAAAOB5QBoPEgQxMnRoGQAAAAAAQHVAGhQSCURvY3RvcmF0ZRkAAAAAANB0QBoSEgc1dGgtNnRoGQAAAAAA4G9AGhISBzFzdC00dGgZAAAAAACAXkAaFBIJUHJlc2Nob29sGQAAAAAAgERAJR/iBkEqgwMKEiIHSFMtZ3JhZCkAAAAAAHrAQAobCAEQASIMU29tZS1jb2xsZWdlKQAAAAAAxLZAChgIAhACIglCYWNoZWxvcnMpAAAAAADSsEAKFggDEAMiB01hc3RlcnMpAAAAAABAlUAKGAgEEAQiCUFzc29jLXZvYykAAAAAADSRQAoTCAUQBSIEMTF0aCkAAAAAAIiNQAoZCAYQBiIKQXNzb2MtYWNkbSkAAAAAAGiKQAoTCAcQByIEMTB0aCkAAAAAAKCHQAoWCAgQCCIHN3RoLTh0aCkAAAAAACiAQAoaCAkQCSILUHJvZi1zY2hvb2wpAAAAAAAQfEAKEggKEAoiAzl0aCkAAAAAAOB5QAoTCAsQCyIEMTJ0aCkAAAAAAEB1QAoYCAwQDCIJRG9jdG9yYXRlKQAAAAAA0HRAChYIDRANIgc1dGgtNnRoKQAAAAAA4G9AChYIDhAOIgcxc3QtNHRoKQAAAAAAgF5AChgIDxAPIglQcmVzY2hvb2wpAAAAAACAREBCCwoJQmFjaGVsb3JzGr0HGrQHCrgCCMDLARgBIAEtAACAPzKkAhobCQAAAAAAAPA/EQAAAAAAAPA/IZqZmZmZWaRAGhsJAAAAAAAA8D8RAAAAAAAA8D8hmpmZmZlZpEAaGwkAAAAAAADwPxEAAAAAAADwPyGamZmZmVmkQBobCQAAAAAAAPA/EQAAAAAAAPA/IZqZmZmZWaRAGhsJAAAAAAAA8D8RAAAAAAAA8D8hmpmZmZlZpEAaGwkAAAAAAADwPxEAAAAAAADwPyGamZmZmVmkQBobCQAAAAAAAPA/EQAAAAAAAPA/IZqZmZmZWaRAGhsJAAAAAAAA8D8RAAAAAAAA8D8hmpmZmZlZpEAaGwkAAAAAAADwPxEAAAAAAADwPyGamZmZmVmkQBobCQAAAAAAAPA/EQAAAAAAAPA/IZqZmZmZWaRAIAFAwMsBEV//Jo6SKSRAGVKHpbWnfwRAKQAAAAAAAPA/MQAAAAAAACRAOQAAAAAAADBAQqICGhsJAAAAAAAA8D8RAAAAAAAABEAhQ4ts5/spZUAaGwkAAAAAAAAEQBEAAAAAAAAQQCHx0k1iEBhxQBobCQAAAAAAABBAEQAAAAAAABZAIWiR7Xw/FYxAGhsJAAAAAAAAFkARAAAAAAAAHEAhFtnO91MDiEAaGwkAAAAAAAAcQBEAAAAAAAAhQCEu3SQGgSWUQBobCQAAAAAAACFAEQAAAAAAACRAIT81XrpJgsBAGhsJAAAAAAAAJEARAAAAAAAAJ0AhObTIdr4Du0AaGwkAAAAAAAAnQBEAAAAAAAAqQCEUrkfhenSKQBobCQAAAAAAACpAEQAAAAAAAC1AIQisHFpkB7ZAGhsJAAAAAAAALUARAAAAAAAAMEAhwMqhRbbTiEBCpAIaGwkAAAAAAADwPxEAAAAAAAAcQCGZmZmZmVmkQBobCQAAAAAAABxAEQAAAAAAACJAIZmZmZmZWaRAGhsJAAAAAAAAIkARAAAAAAAAIkAhmZmZmZlZpEAaGwkAAAAAAAAiQBEAAAAAAAAiQCGZmZmZmVmkQBobCQAAAAAAACJAEQAAAAAAACRAIZmZmZmZWaRAGhsJAAAAAAAAJEARAAAAAAAAJEAhmZmZmZlZpEAaGwkAAAAAAAAkQBEAAAAAAAAmQCGZmZmZmVmkQBobCQAAAAAAACZAEQAAAAAAACpAIZmZmZmZWaRAGhsJAAAAAAAAKkARAAAAAAAAKkAhmZmZmZlZpEAaGwkAAAAAAAAqQBEAAAAAAAAwQCGZmZmZmVmkQCABQgQKAjEzGuMFEAIizQUKuAIIwMsBGAEgAS0AAIA/MqQCGhsJAAAAAAAA8D8RAAAAAAAA8D8hmpmZmZlZpEAaGwkAAAAAAADwPxEAAAAAAADwPyGamZmZmVmkQBobCQAAAAAAAPA/EQAAAAAAAPA/IZqZmZmZWaRAGhsJAAAAAAAA8D8RAAAAAAAA8D8hmpmZmZlZpEAaGwkAAAAAAADwPxEAAAAAAADwPyGamZmZmVmkQBobCQAAAAAAAPA/EQAAAAAAAPA/IZqZmZmZWaRAGhsJAAAAAAAA8D8RAAAAAAAA8D8hmpmZmZlZpEAaGwkAAAAAAADwPxEAAAAAAADwPyGamZmZmVmkQBobCQAAAAAAAPA/EQAAAAAAAPA/IZqZmZmZWaRAGhsJAAAAAAAA8D8RAAAAAAAA8D8hmpmZmZlZpEAgAUDAywEQBxodEhJNYXJyaWVkLWNpdi1zcG91c2UZAAAAAABNx0AaGBINTmV2ZXItbWFycmllZBkAAAAAALHAQBoTEghEaXZvcmNlZBkAAAAAAPKrQBoUEglTZXBhcmF0ZWQZAAAAAADQiUAaEhIHV2lkb3dlZBkAAAAAACiJQBogEhVNYXJyaWVkLXNwb3VzZS1hYnNlbnQZAAAAAACgdUAaHBIRTWFycmllZC1BRi1zcG91c2UZAAAAAAAAMkAl/2ZmQSrQAQodIhJNYXJyaWVkLWNpdi1zcG91c2UpAAAAAABNx0AKHAgBEAEiDU5ldmVyLW1hcnJpZWQpAAAAAACxwEAKFwgCEAIiCERpdm9yY2VkKQAAAAAA8qtAChgIAxADIglTZXBhcmF0ZWQpAAAAAADQiUAKFggEEAQiB1dpZG93ZWQpAAAAAAAoiUAKJAgFEAUiFU1hcnJpZWQtc3BvdXNlLWFic2VudCkAAAAAAKB1QAogCAYQBiIRTWFycmllZC1BRi1zcG91c2UpAAAAAAAAMkBCDwoNTmV2ZXItbWFycmllZBqWCRACIoEJCrgCCMDLARgBIAEtAACAPzKkAhobCQAAAAAAAPA/EQAAAAAAAPA/IZqZmZmZWaRAGhsJAAAAAAAA8D8RAAAAAAAA8D8hmpmZmZlZpEAaGwkAAAAAAADwPxEAAAAAAADwPyGamZmZmVmkQBobCQAAAAAAAPA/EQAAAAAAAPA/IZqZmZmZWaRAGhsJAAAAAAAA8D8RAAAAAAAA8D8hmpmZmZlZpEAaGwkAAAAAAADwPxEAAAAAAADwPyGamZmZmVmkQBobCQAAAAAAAPA/EQAAAAAAAPA/IZqZmZmZWaRAGhsJAAAAAAAA8D8RAAAAAAAA8D8hmpmZmZlZpEAaGwkAAAAAAADwPxEAAAAAAADwPyGamZmZmVmkQBobCQAAAAAAAPA/EQAAAAAAAPA/IZqZmZmZWaRAIAFAwMsBEA8aGRIOUHJvZi1zcGVjaWFsdHkZAAAAAAD2qUAaFxIMQ3JhZnQtcmVwYWlyGQAAAAAAdqlAGhoSD0V4ZWMtbWFuYWdlcmlhbBkAAAAAABapQBoXEgxBZG0tY2xlcmljYWwZAAAAAAAKqEAaEBIFU2FsZXMZAAAAAADkpkAaGBINT3RoZXItc2VydmljZRkAAAAAAMqkQBocEhFNYWNoaW5lLW9wLWluc3BjdBkAAAAAAPCYQBoMEgE/GQAAAAAA5JZAGhsSEFRyYW5zcG9ydC1tb3ZpbmcZAAAAAAAIlEAaHBIRSGFuZGxlcnMtY2xlYW5lcnMZAAAAAAB8kEAaGhIPRmFybWluZy1maXNoaW5nGQAAAAAA8IhAGhcSDFRlY2gtc3VwcG9ydBkAAAAAAPCGQBoaEg9Qcm90ZWN0aXZlLXNlcnYZAAAAAABogEAaGhIPUHJpdi1ob3VzZS1zZXJ2GQAAAAAAAF9AGhcSDEFybWVkLUZvcmNlcxkAAAAAAAAgQCVgGENBKroDChkiDlByb2Ytc3BlY2lhbHR5KQAAAAAA9qlAChsIARABIgxDcmFmdC1yZXBhaXIpAAAAAAB2qUAKHggCEAIiD0V4ZWMtbWFuYWdlcmlhbCkAAAAAABapQAobCAMQAyIMQWRtLWNsZXJpY2FsKQAAAAAACqhAChQIBBAEIgVTYWxlcykAAAAAAOSmQAocCAUQBSINT3RoZXItc2VydmljZSkAAAAAAMqkQAogCAYQBiIRTWFjaGluZS1vcC1pbnNwY3QpAAAAAADwmEAKEAgHEAciAT8pAAAAAADklkAKHwgIEAgiEFRyYW5zcG9ydC1tb3ZpbmcpAAAAAAAIlEAKIAgJEAkiEUhhbmRsZXJzLWNsZWFuZXJzKQAAAAAAfJBACh4IChAKIg9GYXJtaW5nLWZpc2hpbmcpAAAAAADwiEAKGwgLEAsiDFRlY2gtc3VwcG9ydCkAAAAAAPCGQAoeCAwQDCIPUHJvdGVjdGl2ZS1zZXJ2KQAAAAAAaIBACh4IDRANIg9Qcml2LWhvdXNlLXNlcnYpAAAAAAAAX0AKGwgOEA4iDEFybWVkLUZvcmNlcykAAAAAAAAgQEIOCgxBZG0tY2xlcmljYWwa+wQQAiLlBAq4AgjAywEYASABLQAAgD8ypAIaGwkAAAAAAADwPxEAAAAAAADwPyGamZmZmVmkQBobCQAAAAAAAPA/EQAAAAAAAPA/IZqZmZmZWaRAGhsJAAAAAAAA8D8RAAAAAAAA8D8hmpmZmZlZpEAaGwkAAAAAAADwPxEAAAAAAADwPyGamZmZmVmkQBobCQAAAAAAAPA/EQAAAAAAAPA/IZqZmZmZWaRAGhsJAAAAAAAA8D8RAAAAAAAA8D8hmpmZmZlZpEAaGwkAAAAAAADwPxEAAAAAAADwPyGamZmZmVmkQBobCQAAAAAAAPA/EQAAAAAAAPA/IZqZmZmZWaRAGhsJAAAAAAAA8D8RAAAAAAAA8D8hmpmZmZlZpEAaGwkAAAAAAADwPxEAAAAAAADwPyGamZmZmVmkQCABQMDLARAGGhISB0h1c2JhbmQZAAAAAACBxEAaGBINTm90LWluLWZhbWlseRkAAAAAAD26QBoUEglPd24tY2hpbGQZAAAAAACyr0AaFBIJVW5tYXJyaWVkGQAAAAAAfqVAGg8SBFdpZmUZAAAAAAC4k0AaGRIOT3RoZXItcmVsYXRpdmUZAAAAAADYh0AlBxMSQSqaAQoSIgdIdXNiYW5kKQAAAAAAgcRAChwIARABIg1Ob3QtaW4tZmFtaWx5KQAAAAAAPbpAChgIAhACIglPd24tY2hpbGQpAAAAAACyr0AKGAgDEAMiCVVubWFycmllZCkAAAAAAH6lQAoTCAQQBCIEV2lmZSkAAAAAALiTQAodCAUQBSIOT3RoZXItcmVsYXRpdmUpAAAAAADYh0BCDwoNTm90LWluLWZhbWlseRrLBBACIr0ECrgCCMDLARgBIAEtAACAPzKkAhobCQAAAAAAAPA/EQAAAAAAAPA/IZqZmZmZWaRAGhsJAAAAAAAA8D8RAAAAAAAA8D8hmpmZmZlZpEAaGwkAAAAAAADwPxEAAAAAAADwPyGamZmZmVmkQBobCQAAAAAAAPA/EQAAAAAAAPA/IZqZmZmZWaRAGhsJAAAAAAAA8D8RAAAAAAAA8D8hmpmZmZlZpEAaGwkAAAAAAADwPxEAAAAAAADwPyGamZmZmVmkQBobCQAAAAAAAPA/EQAAAAAAAPA/IZqZmZmZWaRAGhsJAAAAAAAA8D8RAAAAAAAA8D8hmpmZmZlZpEAaGwkAAAAAAADwPxEAAAAAAADwPyGamZmZmVmkQBobCQAAAAAAAPA/EQAAAAAAAPA/IZqZmZmZWaRAIAFAwMsBEAUaEBIFV2hpdGUZAAAAAIDC1UAaEBIFQmxhY2sZAAAAAABao0AaHRISQXNpYW4tUGFjLUlzbGFuZGVyGQAAAAAAiIlAGh0SEkFtZXItSW5kaWFuLUVza2ltbxkAAAAAAIBvQBoQEgVPdGhlchkAAAAAAIBrQCWOErFAKoQBChAiBVdoaXRlKQAAAACAwtVAChQIARABIgVCbGFjaykAAAAAAFqjQAohCAIQAiISQXNpYW4tUGFjLUlzbGFuZGVyKQAAAAAAiIlACiEIAxADIhJBbWVyLUluZGlhbi1Fc2tpbW8pAAAAAACAb0AKFAgEEAQiBU90aGVyKQAAAAAAgGtAQgcKBVdoaXRlGp0DEAIikAMKuAIIwMsBGAEgAS0AAIA/MqQCGhsJAAAAAAAA8D8RAAAAAAAA8D8hmpmZmZlZpEAaGwkAAAAAAADwPxEAAAAAAADwPyGamZmZmVmkQBobCQAAAAAAAPA/EQAAAAAAAPA/IZqZmZmZWaRAGhsJAAAAAAAA8D8RAAAAAAAA8D8hmpmZmZlZpEAaGwkAAAAAAADwPxEAAAAAAADwPyGamZmZmVmkQBobCQAAAAAAAPA/EQAAAAAAAPA/IZqZmZmZWaRAGhsJAAAAAAAA8D8RAAAAAAAA8D8hmpmZmZlZpEAaGwkAAAAAAADwPxEAAAAAAADwPyGamZmZmVmkQBobCQAAAAAAAPA/EQAAAAAAAPA/IZqZmZmZWaRAGhsJAAAAAAAA8D8RAAAAAAAA8D8hmpmZmZlZpEAgAUDAywEQAhoPEgRNYWxlGQAAAACABdFAGhESBkZlbWFsZRkAAAAAANXAQCWpLJVAKigKDyIETWFsZSkAAAAAgAXRQAoVCAEQASIGRmVtYWxlKQAAAAAA1cBAQgYKBE1hbGUa/AUa8QUKuAIIwMsBGAEgAS0AAIA/MqQCGhsJAAAAAAAA8D8RAAAAAAAA8D8hmpmZmZlZpEAaGwkAAAAAAADwPxEAAAAAAADwPyGamZmZmVmkQBobCQAAAAAAAPA/EQAAAAAAAPA/IZqZmZmZWaRAGhsJAAAAAAAA8D8RAAAAAAAA8D8hmpmZmZlZpEAaGwkAAAAAAADwPxEAAAAAAADwPyGamZmZmVmkQBobCQAAAAAAAPA/EQAAAAAAAPA/IZqZmZmZWaRAGhsJAAAAAAAA8D8RAAAAAAAA8D8hmpmZmZlZpEAaGwkAAAAAAADwPxEAAAAAAADwPyGamZmZmVmkQBobCQAAAAAAAPA/EQAAAAAAAPA/IZqZmZmZWaRAGhsJAAAAAAAA8D8RAAAAAAAA8D8hmpmZmZlZpEAgAUDAywER2krf6y8RkUAZmUH/KMg6vUAgv7oBOQAAAADwafhAQpkCGhIRMzMzM/OHw0Ah1zeYSbDW2EAaGwkzMzMz84fDQBEzMzMz84fTQCFQ8zPgful6QBobCTMzMzPzh9NAEczMzMzsS91AITTMSRjZJTtAGhsJzMzMzOxL3UARMzMzM/OH40AhMWJubZTfDEAaGwkzMzMz84fjQBEAAAAA8GnoQCExYm5tlN8MQBobCQAAAADwaehAEczMzMzsS+1AIStibm2U3wxAGhsJzMzMzOxL7UARzczMzPQW8UAhN2JubZTfDEAaGwnNzMzM9BbxQBEzMzMz84fzQCErYm5tlN8MQBobCTMzMzPzh/NAEZmZmZnx+PVAIStibm2U3wxAGhsJmZmZmfH49UARAAAAAPBp+EAh0JowZiy7YEBCeRoJIZmZmZmZWaRAGgkhmZmZmZlZpEAaCSGZmZmZmVmkQBoJIZmZmZmZWaRAGgkhmZmZmZlZpEAaCSGZmZmZmVmkQBoJIZmZmZmZWaRAGgkhmZmZmZlZpEAaCSGZmZmZmVmkQBoSEQAAAADwafhAIZmZmZmZWaRAIAFCBgoEMjE3NBr5BRrxBQq4AgjAywEYASABLQAAgD8ypAIaGwkAAAAAAADwPxEAAAAAAADwPyGamZmZmVmkQBobCQAAAAAAAPA/EQAAAAAAAPA/IZqZmZmZWaRAGhsJAAAAAAAA8D8RAAAAAAAA8D8hmpmZmZlZpEAaGwkAAAAAAADwPxEAAAAAAADwPyGamZmZmVmkQBobCQAAAAAAAPA/EQAAAAAAAPA/IZqZmZmZWaRAGhsJAAAAAAAA8D8RAAAAAAAA8D8hmpmZmZlZpEAaGwkAAAAAAADwPxEAAAAAAADwPyGamZmZmVmkQBobCQAAAAAAAPA/EQAAAAAAAPA/IZqZmZmZWaRAGhsJAAAAAAAA8D8RAAAAAAAA8D8hmpmZmZlZpEAaGwkAAAAAAADwPxEAAAAAAADwPyGamZmZmVmkQCABQMDLAREGoQDZcalVQBlnUuaS4ht5QCCLwgE5AAAAAAAEsUBCmQIaEhGamZmZmTl7QCFtkLXOm0TYQBobCZqZmZmZOXtAEZqZmZmZOYtAIY7+A40O3DBAGhsJmpmZmZk5i0ARNDMzMzNrlEAh2O4xQYBAOkAaGwk0MzMzM2uUQBGamZmZmTmbQCEbYwOH6LR1QBobCZqZmZmZOZtAEQAAAAAABKFAIcBP+onchINAGhsJAAAAAAAEoUARNDMzMzNrpEAhmPjT2w2pY0AaGwk0MzMzM2ukQBFnZmZmZtKnQCFgbGjNrUEZQBobCWdmZmZm0qdAEZqZmZmZOatAIWBsaM2tQRlAGhsJmpmZmZk5q0ARzczMzMygrkAhYGxoza1BGUAaGwnNzMzMzKCuQBEAAAAAAASxQCFgbGjNrUEZQEJ5GgkhmZmZmZlZpEAaCSGZmZmZmVmkQBoJIZmZmZmZWaRAGgkhmZmZmZlZpEAaCSGZmZmZmVmkQBoJIZmZmZmZWaRAGgkhmZmZmZlZpEAaCSGZmZmZmVmkQBoJIZmZmZmZWaRAGhIRAAAAAAAEsUAhmZmZmZlZpEAgAUIDCgEwGr0HGrQHCrgCCMDLARgBIAEtAACAPzKkAhobCQAAAAAAAPA/EQAAAAAAAPA/IZqZmZmZWaRAGhsJAAAAAAAA8D8RAAAAAAAA8D8hmpmZmZlZpEAaGwkAAAAAAADwPxEAAAAAAADwPyGamZmZmVmkQBobCQAAAAAAAPA/EQAAAAAAAPA/IZqZmZmZWaRAGhsJAAAAAAAA8D8RAAAAAAAA8D8hmpmZmZlZpEAaGwkAAAAAAADwPxEAAAAAAADwPyGamZmZmVmkQBobCQAAAAAAAPA/EQAAAAAAAPA/IZqZmZmZWaRAGhsJAAAAAAAA8D8RAAAAAAAA8D8hmpmZmZlZpEAaGwkAAAAAAADwPxEAAAAAAADwPyGamZmZmVmkQBobCQAAAAAAAPA/EQAAAAAAAPA/IZqZmZmZWaRAIAFAwMsBEaEA2XFtNERAGc0cTp5enShAKQAAAAAAAPA/MQAAAAAAAERAOQAAAAAAwFhAQqICGhsJAAAAAAAA8D8RmpmZmZmZJUAheVioNc07gkAaGwmamZmZmZklQBGamZmZmZk0QCG1hHzQs1mbQBobCZqZmZmZmTRAEWdmZmZmZj5AIfkx5q4lJJ1AGhsJZ2ZmZmZmPkARmpmZmZkZREAh46WbxCDUy0AaGwmamZmZmRlEQBEAAAAAAABJQCF0tRX7y36jQBobCQAAAAAAAElAEWdmZmZm5k1AIW6jAbwFyqdAGhsJZ2ZmZmbmTUARZ2ZmZmZmUUAh2r+y0qRklkAaGwlnZmZmZmZRQBGamZmZmdlTQCHRHcTOFLp2QBobCZqZmZmZ2VNAEc3MzMzMTFZAIWrH5ygafmNAGhsJzczMzMxMVkARAAAAAADAWEAhjL/Hc5DqWkBCpAIaGwkAAAAAAADwPxEAAAAAAAA4QCGZmZmZmVmkQBobCQAAAAAAADhAEQAAAAAAgEFAIZmZmZmZWaRAGhsJAAAAAACAQUARAAAAAAAAREAhmZmZmZlZpEAaGwkAAAAAAABEQBEAAAAAAABEQCGZmZmZmVmkQBobCQAAAAAAAERAEQAAAAAAAERAIZmZmZmZWaRAGhsJAAAAAAAAREARAAAAAAAAREAhmZmZmZlZpEAaGwkAAAAAAABEQBEAAAAAAABEQCGZmZmZmVmkQBobCQAAAAAAAERAEQAAAAAAAEhAIZmZmZmZWaRAGhsJAAAAAAAASEARAAAAAACAS0AhmZmZmZlZpEAaGwkAAAAAAIBLQBEAAAAAAMBYQCGZmZmZmVmkQCABQgQKAjQwGokOEAIi8w0KuAIIwMsBGAEgAS0AAIA/MqQCGhsJAAAAAAAA8D8RAAAAAAAA8D8hmpmZmZlZpEAaGwkAAAAAAADwPxEAAAAAAADwPyGamZmZmVmkQBobCQAAAAAAAPA/EQAAAAAAAPA/IZqZmZmZWaRAGhsJAAAAAAAA8D8RAAAAAAAA8D8hmpmZmZlZpEAaGwkAAAAAAADwPxEAAAAAAADwPyGamZmZmVmkQBobCQAAAAAAAPA/EQAAAAAAAPA/IZqZmZmZWaRAGhsJAAAAAAAA8D8RAAAAAAAA8D8hmpmZmZlZpEAaGwkAAAAAAADwPxEAAAAAAADwPyGamZmZmVmkQBobCQAAAAAAAPA/EQAAAAAAAPA/IZqZmZmZWaRAGhsJAAAAAAAA8D8RAAAAAAAA8D8hmpmZmZlZpEAgAUDAywEQKhoYEg1Vbml0ZWQtU3RhdGVzGQAAAACAztZAGhESBk1leGljbxkAAAAAANB/QBoMEgE/GQAAAAAAIH1AGhYSC1BoaWxpcHBpbmVzGQAAAAAA4GNAGhISB0dlcm1hbnkZAAAAAACAWkAaERIGQ2FuYWRhGQAAAAAAwFlAGhYSC1B1ZXJ0by1SaWNvGQAAAAAAAFlAGhISB0VuZ2xhbmQZAAAAAACAU0AaFhILRWwtU2FsdmFkb3IZAAAAAAAAU0AaDxIEQ3ViYRkAAAAAAIBSQBoQEgVJbmRpYRkAAAAAAMBRQBoQEgVTb3V0aBkAAAAAAMBQQBoQEgVDaGluYRkAAAAAAIBPQBoSEgdKYW1haWNhGQAAAAAAgE5AGhASBUl0YWx5GQAAAAAAgEtAGh0SEkRvbWluaWNhbi1SZXB1YmxpYxkAAAAAAIBLQBoREgZQb2xhbmQZAAAAAACASkAaFBIJR3VhdGVtYWxhGQAAAAAAgEpAGhISB1ZpZXRuYW0ZAAAAAAAASkAaEBIFSmFwYW4ZAAAAAAAASUAlBrpEQSqVCAoYIg1Vbml0ZWQtU3RhdGVzKQAAAACAztZAChUIARABIgZNZXhpY28pAAAAAADQf0AKEAgCEAIiAT8pAAAAAAAgfUAKGggDEAMiC1BoaWxpcHBpbmVzKQAAAAAA4GNAChYIBBAEIgdHZXJtYW55KQAAAAAAgFpAChUIBRAFIgZDYW5hZGEpAAAAAADAWUAKGggGEAYiC1B1ZXJ0by1SaWNvKQAAAAAAAFlAChYIBxAHIgdFbmdsYW5kKQAAAAAAgFNAChoICBAIIgtFbC1TYWx2YWRvcikAAAAAAABTQAoTCAkQCSIEQ3ViYSkAAAAAAIBSQAoUCAoQCiIFSW5kaWEpAAAAAADAUUAKFAgLEAsiBVNvdXRoKQAAAAAAwFBAChQIDBAMIgVDaGluYSkAAAAAAIBPQAoWCA0QDSIHSmFtYWljYSkAAAAAAIBOQAoUCA4QDiIFSXRhbHkpAAAAAACAS0AKIQgPEA8iEkRvbWluaWNhbi1SZXB1YmxpYykAAAAAAIBLQAoVCBAQECIGUG9sYW5kKQAAAAAAgEpAChgIERARIglHdWF0ZW1hbGEpAAAAAACASkAKFggSEBIiB1ZpZXRuYW0pAAAAAAAASkAKFAgTEBMiBUphcGFuKQAAAAAAAElAChcIFBAUIghDb2x1bWJpYSkAAAAAAABHQAoVCBUQFSIGVGFpd2FuKQAAAAAAAEZAChMIFhAWIgRJcmFuKQAAAAAAAENAChQIFxAXIgVIYWl0aSkAAAAAAABDQAoXCBgQGCIIUG9ydHVnYWwpAAAAAAAAPEAKGAgZEBkiCU5pY2FyYWd1YSkAAAAAAAA7QAoTCBoQGiIEUGVydSkAAAAAAAA3QAoVCBsQGyIGR3JlZWNlKQAAAAAAADdAChUIHBAcIgZGcmFuY2UpAAAAAAAAN0AKFggdEB0iB0lyZWxhbmQpAAAAAAAANEAKFggeEB4iB0VjdWFkb3IpAAAAAAAAM0AKFwgfEB8iCFRoYWlsYW5kKQAAAAAAADBAChcIIBAgIghDYW1ib2RpYSkAAAAAAAAwQAoeCCEQISIPVHJpbmFkYWQmVG9iYWdvKQAAAAAAAChAChMIIhAiIgRIb25nKQAAAAAAAChAChkIIxAjIgpZdWdvc2xhdmlhKQAAAAAAACZAChMIJBAkIgRMYW9zKQAAAAAAACRAChYIJRAlIgdIdW5nYXJ5KQAAAAAAACRAChcIJhAmIghTY290bGFuZCkAAAAAAAAiQAoXCCcQJyIISG9uZHVyYXMpAAAAAAAAIkAKKQgoECgiGk91dGx5aW5nLVVTKEd1YW0tVVNWSS1ldGMpKQAAAAAAACBACiEIKRApIhJIb2xhbmQtTmV0aGVybGFuZHMpAAAAAAAA8D9CDwoNVW5pdGVkLVN0YXRlcxqcAxACIo4DCrgCCMDLARgBIAEtAACAPzKkAhobCQAAAAAAAPA/EQAAAAAAAPA/IZqZmZmZWaRAGhsJAAAAAAAA8D8RAAAAAAAA8D8hmpmZmZlZpEAaGwkAAAAAAADwPxEAAAAAAADwPyGamZmZmVmkQBobCQAAAAAAAPA/EQAAAAAAAPA/IZqZmZmZWaRAGhsJAAAAAAAA8D8RAAAAAAAA8D8hmpmZmZlZpEAaGwkAAAAAAADwPxEAAAAAAADwPyGamZmZmVmkQBobCQAAAAAAAPA/EQAAAAAAAPA/IZqZmZmZWaRAGhsJAAAAAAAA8D8RAAAAAAAA8D8hmpmZmZlZpEAaGwkAAAAAAADwPxEAAAAAAADwPyGamZmZmVmkQBobCQAAAAAAAPA/EQAAAAAAAPA/IZqZmZmZWaRAIAFAwMsBEAIaEBIFPD01MEsZAAAAAMBX00AaDxIEPjUwSxkAAAAAAGG4QCU6VZhAKicKECIFPD01MEspAAAAAMBX00AKEwgBEAEiBD41MEspAAAAAABhuEBCBwoFPD01MEs=\"></facets-overview>';\n",
       "        facets_iframe.srcdoc = facets_html;\n",
       "         facets_iframe.id = \"\";\n",
       "         setTimeout(() => {\n",
       "           facets_iframe.setAttribute('height', facets_iframe.contentWindow.document.body.offsetHeight + 'px')\n",
       "         }, 1500)\n",
       "         </script>"
      ],
      "text/plain": [
       "<IPython.core.display.HTML object>"
      ]
     },
     "metadata": {},
     "output_type": "display_data"
    }
   ],
   "source": [
    "# Generate evaluation dataset statistics\n",
    "eval_stats = tfdv.generate_statistics_from_dataframe(eval_df)\n",
    "\n",
    "# Compare training with evaluation\n",
    "tfdv.visualize_statistics(\n",
    "    lhs_statistics=eval_stats, \n",
    "    rhs_statistics=train_stats, \n",
    "    lhs_name='EVAL_DATASET', \n",
    "    rhs_name='TRAIN_DATASET'\n",
    ")"
   ]
  },
  {
   "cell_type": "markdown",
   "metadata": {
    "id": "GODDgoHdgPU2"
   },
   "source": [
    "We encourage you to observe the results generated and toggle the menus to practice manipulating the visualization (e.g. sort by missing/zeroes). You'll notice that TFDV detects the malformed rows we introduced earlier. First, the `min` and `max` values of the `age` row shows `0` and `1000`, respectively. We know that those values do not make sense if we're talking about working adults. Secondly, the `workclass` row in the Categorical Features says that `0.02%` of the data is missing that particular attribute. Let's drop these rows to make the data more clean."
   ]
  },
  {
   "cell_type": "code",
   "execution_count": 10,
   "metadata": {},
   "outputs": [],
   "source": [
    "# filter the age range\n",
    "eval_df = eval_df[eval_df['age'] > 16]\n",
    "eval_df = eval_df[eval_df['age'] < 91]\n",
    "\n",
    "# drop missing values\n",
    "eval_df.dropna(inplace=True)"
   ]
  },
  {
   "cell_type": "markdown",
   "metadata": {},
   "source": [
    "You can then compute the statistics again and see the difference in the results."
   ]
  },
  {
   "cell_type": "code",
   "execution_count": 11,
   "metadata": {},
   "outputs": [
    {
     "data": {
      "text/html": [
       "<iframe id='facets-iframe' width=\"100%\" height=\"500px\"></iframe>\n",
       "        <script>\n",
       "        facets_iframe = document.getElementById('facets-iframe');\n",
       "        facets_html = '<script src=\"https://cdnjs.cloudflare.com/ajax/libs/webcomponentsjs/1.3.3/webcomponents-lite.js\"><\\/script><link rel=\"import\" href=\"https://raw.githubusercontent.com/PAIR-code/facets/master/facets-dist/facets-jupyter.html\"><facets-overview proto-input=\"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\"></facets-overview>';\n",
       "        facets_iframe.srcdoc = facets_html;\n",
       "         facets_iframe.id = \"\";\n",
       "         setTimeout(() => {\n",
       "           facets_iframe.setAttribute('height', facets_iframe.contentWindow.document.body.offsetHeight + 'px')\n",
       "         }, 1500)\n",
       "         </script>"
      ],
      "text/plain": [
       "<IPython.core.display.HTML object>"
      ]
     },
     "metadata": {},
     "output_type": "display_data"
    }
   ],
   "source": [
    "# Generate evaluation dataset statistics\n",
    "eval_stats = tfdv.generate_statistics_from_dataframe(eval_df)\n",
    "\n",
    "# Compare training with evaluation\n",
    "tfdv.visualize_statistics(\n",
    "    lhs_statistics=eval_stats, \n",
    "    rhs_statistics=train_stats, \n",
    "    lhs_name='EVAL_DATASET', \n",
    "    rhs_name='TRAIN_DATASET'\n",
    ")"
   ]
  },
  {
   "cell_type": "markdown",
   "metadata": {
    "id": "J3Lvnr-YgPU2"
   },
   "source": [
    "## Calculate and display evaluation anomalies"
   ]
  },
  {
   "cell_type": "markdown",
   "metadata": {
    "id": "D1D9bNcigPU2"
   },
   "source": [
    "You can use your reference schema to check for anomalies such as new values for a specific feature in the evaluation data. Detected anomalies can either be considered a real error that needs to be cleaned, or depending on your domain knowledge and the specific case, they can be accepted. \n",
    "\n",
    "Let's detect and display evaluation anomalies and see if there are any problems that need to be addressed."
   ]
  },
  {
   "cell_type": "code",
   "execution_count": 12,
   "metadata": {
    "id": "OR5dBqpW6ky2"
   },
   "outputs": [
    {
     "name": "stderr",
     "output_type": "stream",
     "text": [
      "C:\\Users\\fwu\\AppData\\Roaming\\Python\\Python38\\site-packages\\tensorflow_data_validation\\utils\\display_util.py:217: FutureWarning: Passing a negative integer is deprecated in version 1.0 and will not be supported in future version. Instead, use None to not limit the column width.\n",
      "  pd.set_option('max_colwidth', -1)\n"
     ]
    },
    {
     "data": {
      "text/html": [
       "<h4 style=\"color:green;\">No anomalies found.</h4>"
      ],
      "text/plain": [
       "<IPython.core.display.HTML object>"
      ]
     },
     "metadata": {},
     "output_type": "display_data"
    }
   ],
   "source": [
    "# Check evaluation data for errors by validating the evaluation dataset statistics using the reference schema\n",
    "anomalies =  tfdv.validate_statistics(statistics=eval_stats, schema=schema)\n",
    "\n",
    "# Visualize anomalies\n",
    "tfdv.display_anomalies(anomalies)"
   ]
  },
  {
   "cell_type": "markdown",
   "metadata": {
    "id": "HeEvhvgqzLu-"
   },
   "source": [
    "## Revising the Schema\n",
    "\n",
    "As shown in the results above, TFDV is able to detect the remaining irregularities we introduced earlier. The short and long descriptions tell us what were detected. As expected, there are string values for `race`, `native-country` and `occupation` that are not found in the domain of the training set schema (you might see a different result if the shuffling of the datasets was applied). What you decide to do about the anomalies depend on your domain knowledge of the data. If an anomaly indicates a data error, then the underlying data should be fixed. Otherwise, you can update the schema to include the values in the evaluation dataset.\n",
    "\n",
    "TFDV provides a set of utility methods and parameters that you can use for revising the inferred schema. This [reference](https://www.tensorflow.org/tfx/data_validation/anomalies) lists down the type of anomalies and the parameters that you can edit but we'll focus only on a couple here.\n",
    "\n",
    "- You can relax the minimum fraction of values that must come from the domain of a particular feature (as described by `ENUM_TYPE_UNEXPECTED_STRING_VALUES` in the [reference](https://www.tensorflow.org/tfx/data_validation/anomalies)):\n",
    "\n",
    "```python\n",
    "tfdv.get_feature(schema, 'feature_column_name').distribution_constraints.min_domain_mass = <float: 0.0 to 1.0>\n",
    "```\n",
    "\n",
    "- You can add a new value to the domain of a particular feature:\n",
    "\n",
    "```python\n",
    "tfdv.get_domain(schema, 'feature_column_name').value.append('string')\n",
    "```\n",
    "\n",
    "Let's use these in the next section."
   ]
  },
  {
   "cell_type": "markdown",
   "metadata": {
    "id": "HKECg6Lf6-ks"
   },
   "source": [
    "## Fix anomalies in the schema\n",
    "\n",
    "Let's say that we want to accept the string anomalies reported as valid. If you want to tolerate a fraction of missing values from the evaluation dataset, you can do it like this:"
   ]
  },
  {
   "cell_type": "code",
   "execution_count": 13,
   "metadata": {},
   "outputs": [
    {
     "ename": "ValueError",
     "evalue": "Feature native-country not found in the schema.",
     "output_type": "error",
     "traceback": [
      "\u001b[1;31m---------------------------------------------------------------------------\u001b[0m",
      "\u001b[1;31mValueError\u001b[0m                                Traceback (most recent call last)",
      "\u001b[1;32m<ipython-input-13-77025c3bae88>\u001b[0m in \u001b[0;36m<module>\u001b[1;34m\u001b[0m\n\u001b[0;32m      1\u001b[0m \u001b[1;31m# Relax the minimum fraction of values that must come from the domain for the feature `native-country`\u001b[0m\u001b[1;33m\u001b[0m\u001b[1;33m\u001b[0m\u001b[1;33m\u001b[0m\u001b[0m\n\u001b[1;32m----> 2\u001b[1;33m \u001b[0mcountry_feature\u001b[0m \u001b[1;33m=\u001b[0m \u001b[0mtfdv\u001b[0m\u001b[1;33m.\u001b[0m\u001b[0mget_feature\u001b[0m\u001b[1;33m(\u001b[0m\u001b[0mschema\u001b[0m\u001b[1;33m,\u001b[0m \u001b[1;34m'native-country'\u001b[0m\u001b[1;33m)\u001b[0m\u001b[1;33m\u001b[0m\u001b[1;33m\u001b[0m\u001b[0m\n\u001b[0m\u001b[0;32m      3\u001b[0m \u001b[0mcountry_feature\u001b[0m\u001b[1;33m.\u001b[0m\u001b[0mdistribution_constraints\u001b[0m\u001b[1;33m.\u001b[0m\u001b[0mmin_domain_mass\u001b[0m \u001b[1;33m=\u001b[0m \u001b[1;36m0.9\u001b[0m\u001b[1;33m\u001b[0m\u001b[1;33m\u001b[0m\u001b[0m\n\u001b[0;32m      4\u001b[0m \u001b[1;33m\u001b[0m\u001b[0m\n\u001b[0;32m      5\u001b[0m \u001b[1;31m# Relax the minimum fraction of values that must come from the domain for the feature `occupation`\u001b[0m\u001b[1;33m\u001b[0m\u001b[1;33m\u001b[0m\u001b[1;33m\u001b[0m\u001b[0m\n",
      "\u001b[1;32m~\\AppData\\Roaming\\Python\\Python38\\site-packages\\tensorflow_data_validation\\utils\\schema_util.py\u001b[0m in \u001b[0;36mget_feature\u001b[1;34m(schema, feature_path)\u001b[0m\n\u001b[0;32m     70\u001b[0m   \u001b[0mfeature\u001b[0m \u001b[1;33m=\u001b[0m \u001b[0mlook_up_feature\u001b[0m\u001b[1;33m(\u001b[0m\u001b[0mfeature_path\u001b[0m\u001b[1;33m.\u001b[0m\u001b[0msteps\u001b[0m\u001b[1;33m(\u001b[0m\u001b[1;33m)\u001b[0m\u001b[1;33m[\u001b[0m\u001b[1;33m-\u001b[0m\u001b[1;36m1\u001b[0m\u001b[1;33m]\u001b[0m\u001b[1;33m,\u001b[0m \u001b[0mfeature_container\u001b[0m\u001b[1;33m)\u001b[0m\u001b[1;33m\u001b[0m\u001b[1;33m\u001b[0m\u001b[0m\n\u001b[0;32m     71\u001b[0m   \u001b[1;32mif\u001b[0m \u001b[0mfeature\u001b[0m \u001b[1;32mis\u001b[0m \u001b[1;32mNone\u001b[0m\u001b[1;33m:\u001b[0m\u001b[1;33m\u001b[0m\u001b[1;33m\u001b[0m\u001b[0m\n\u001b[1;32m---> 72\u001b[1;33m     \u001b[1;32mraise\u001b[0m \u001b[0mValueError\u001b[0m\u001b[1;33m(\u001b[0m\u001b[1;34m'Feature %s not found in the schema.'\u001b[0m \u001b[1;33m%\u001b[0m \u001b[0mfeature_path\u001b[0m\u001b[1;33m)\u001b[0m\u001b[1;33m\u001b[0m\u001b[1;33m\u001b[0m\u001b[0m\n\u001b[0m\u001b[0;32m     73\u001b[0m   \u001b[1;32mreturn\u001b[0m \u001b[0mfeature\u001b[0m\u001b[1;33m\u001b[0m\u001b[1;33m\u001b[0m\u001b[0m\n\u001b[0;32m     74\u001b[0m \u001b[1;33m\u001b[0m\u001b[0m\n",
      "\u001b[1;31mValueError\u001b[0m: Feature native-country not found in the schema."
     ]
    }
   ],
   "source": [
    "# Relax the minimum fraction of values that must come from the domain for the feature `native-country`\n",
    "country_feature = tfdv.get_feature(schema, 'native-country')\n",
    "country_feature.distribution_constraints.min_domain_mass = 0.9\n",
    "\n",
    "# Relax the minimum fraction of values that must come from the domain for the feature `occupation`\n",
    "occupation_feature = tfdv.get_feature(schema, 'occupation')\n",
    "occupation_feature.distribution_constraints.min_domain_mass = 0.9"
   ]
  },
  {
   "cell_type": "markdown",
   "metadata": {},
   "source": [
    "If you want to be rigid and instead add only valid values to the domain, you can do it like this:"
   ]
  },
  {
   "cell_type": "code",
   "execution_count": null,
   "metadata": {
    "id": "hTCWS04p6lDh"
   },
   "outputs": [],
   "source": [
    "# Add new value to the domain of the feature `race`\n",
    "race_domain = tfdv.get_domain(schema, 'race')\n",
    "race_domain.value.append('Asian')"
   ]
  },
  {
   "cell_type": "markdown",
   "metadata": {},
   "source": [
    "In addition, you can also restrict the range of a numerical feature. This will let you know of invalid values without having to inspect it visually (e.g. the invalid `age` values earlier)."
   ]
  },
  {
   "cell_type": "code",
   "execution_count": null,
   "metadata": {},
   "outputs": [],
   "source": [
    "# Restrict the range of the `age` feature\n",
    "tfdv.set_domain(schema, 'age', schema_pb2.IntDomain(name='age', min=17, max=90))\n",
    "\n",
    "# Display the modified schema. Notice the `Domain` column of `age`.\n",
    "tfdv.display_schema(schema)"
   ]
  },
  {
   "cell_type": "markdown",
   "metadata": {},
   "source": [
    "With these revisions, running the validation should now show no anomalies."
   ]
  },
  {
   "cell_type": "code",
   "execution_count": null,
   "metadata": {},
   "outputs": [],
   "source": [
    "# Validate eval stats after updating the schema \n",
    "updated_anomalies = tfdv.validate_statistics(eval_stats, schema)\n",
    "tfdv.display_anomalies(updated_anomalies)"
   ]
  },
  {
   "cell_type": "markdown",
   "metadata": {},
   "source": [
    "## Examining dataset slices\n",
    "\n",
    "TFDV also allows you to analyze specific slices of your dataset. This is particularly useful if you want to inspect if a feature type is well-represented in your dataset. Let's walk through an example where we want to compare the statistics for male and female participants."
   ]
  },
  {
   "cell_type": "markdown",
   "metadata": {},
   "source": [
    "First, you will use the [`get_feature_value_slicer`](https://github.com/tensorflow/data-validation/blob/master/tensorflow_data_validation/utils/slicing_util.py#L48) method from the `slicing_util` to get the features you want to examine. You can specify that by passing a dictionary to the `features` argument. If you want to get the entire domain of a feature, then you can map the feature name with `None` as shown below. This means that you will get slices for both `Male` and `Female` entries. This returns a function that can be used to extract the said feature slice."
   ]
  },
  {
   "cell_type": "code",
   "execution_count": null,
   "metadata": {},
   "outputs": [],
   "source": [
    "from tensorflow_data_validation.utils import slicing_util\n",
    "\n",
    "slice_fn = slicing_util.get_feature_value_slicer(features={'sex': None})"
   ]
  },
  {
   "cell_type": "markdown",
   "metadata": {},
   "source": [
    "With the slice function ready, you can now generate the statistics. You need to tell TFDV that you need statistics for the features you set and you can do that through the `slice_functions` argument of [`tfdv.StatsOptions`](https://www.tensorflow.org/tfx/data_validation/api_docs/python/tfdv/StatsOptions). Let's prepare that in the cell below. Notice that you also need to pass in the schema."
   ]
  },
  {
   "cell_type": "code",
   "execution_count": null,
   "metadata": {},
   "outputs": [],
   "source": [
    "# Declare stats options\n",
    "slice_stats_options = tfdv.StatsOptions(schema=schema,\n",
    "                                        slice_functions=[slice_fn],\n",
    "                                        infer_type_from_schema=True)"
   ]
  },
  {
   "cell_type": "markdown",
   "metadata": {},
   "source": [
    "You will then pass these options to the `generate_statistics_from_csv()` method. As of writing, generating sliced statistics only works for CSVs so you will need to convert the Pandas dataframe to a CSV. Passing the `slice_stats_options` to `generate_statistics_from_dataframe()` will not produce the expected results."
   ]
  },
  {
   "cell_type": "code",
   "execution_count": null,
   "metadata": {},
   "outputs": [],
   "source": [
    "# Convert dataframe to CSV since `slice_functions` works only with `tfdv.generate_statistics_from_csv`\n",
    "CSV_PATH = 'slice_sample.csv'\n",
    "train_df.to_csv(CSV_PATH)\n",
    "\n",
    "# Calculate statistics for the sliced dataset\n",
    "sliced_stats = tfdv.generate_statistics_from_csv(CSV_PATH, stats_options=slice_stats_options)"
   ]
  },
  {
   "cell_type": "markdown",
   "metadata": {},
   "source": [
    "With that, you now have the statistics for the set slice. These are packed into a `DatasetFeatureStatisticsList` protocol buffer. You can see the dataset names below. The first element in the list (i.e. index=0) is named `All_Examples` which just contains the statistics for the entire dataset. The next two elements (i.e. named `sex_Male` and `sex_Female`) are the datasets that contain the stats for the slices. It is important to note that these datasets are of the type: `DatasetFeatureStatistics`. You will see why this is important after the cell below."
   ]
  },
  {
   "cell_type": "code",
   "execution_count": null,
   "metadata": {},
   "outputs": [],
   "source": [
    "print(f'Datasets generated: {[sliced.name for sliced in sliced_stats.datasets]}')\n",
    "\n",
    "print(f'Type of sliced_stats elements: {type(sliced_stats.datasets[0])}')"
   ]
  },
  {
   "cell_type": "markdown",
   "metadata": {},
   "source": [
    "You can then visualize the statistics as before to examine the slices. An important caveat is `visualize_statistics()` accepts a `DatasetFeatureStatisticsList` type instead of `DatasetFeatureStatistics`. Thus, at least for this version of TFDV, you will need to convert it to the correct type."
   ]
  },
  {
   "cell_type": "code",
   "execution_count": null,
   "metadata": {},
   "outputs": [],
   "source": [
    "from tensorflow_metadata.proto.v0.statistics_pb2 import DatasetFeatureStatisticsList\n",
    "\n",
    "# Convert `Male` statistics (index=1) to the correct type and get the dataset name\n",
    "male_stats_list = DatasetFeatureStatisticsList()\n",
    "male_stats_list.datasets.extend([sliced_stats.datasets[1]])\n",
    "male_stats_name = sliced_stats.datasets[1].name\n",
    "\n",
    "# Convert `Female` statistics (index=2) to the correct type and get the dataset name\n",
    "female_stats_list = DatasetFeatureStatisticsList()\n",
    "female_stats_list.datasets.extend([sliced_stats.datasets[2]])\n",
    "female_stats_name = sliced_stats.datasets[2].name\n",
    "\n",
    "# Visualize the two slices side by side\n",
    "tfdv.visualize_statistics(\n",
    "    lhs_statistics=male_stats_list,\n",
    "    rhs_statistics=female_stats_list,\n",
    "    lhs_name=male_stats_name,\n",
    "    rhs_name=female_stats_name\n",
    ")"
   ]
  },
  {
   "cell_type": "markdown",
   "metadata": {},
   "source": [
    "You should now see the visualization of the two slices and you can compare how they are represented in the dataset. \n",
    "\n",
    "We encourage you to go back to the beginning of this section and try different slices. Here are other ways you can explore:\n",
    "\n",
    "* If you want to be more specific, then you can map the specific value to the feature name. For example, if you want just `Male`, then you can declare it as `features={'sex': [b'Male']}`. Notice that the string literal needs to be passed in as bytes with the `b'` prefix.\n",
    "\n",
    "* You can also pass in several features if you want. For example, if you want to slice through both the `sex` and `race` features, then you can do `features={'sex': None, 'race': None}`.\n",
    "\n",
    "You might find it cumbersome or inefficient to redo the whole process for a particular slice. For that, you can make helper functions to streamline the type conversions and you will see one implementation in this week's assignment."
   ]
  },
  {
   "cell_type": "markdown",
   "metadata": {
    "id": "YY812jDDgPU3"
   },
   "source": [
    "## Wrap up\n",
    "\n",
    "This exercise demonstrated how you would use Tensorflow Data Validation in a machine learning project.\n",
    "\n",
    "* It allows you to scale the computation of statistics over datasets.\n",
    "\n",
    "* You can infer the schema of a given dataset and revise it based on your domain knowledge. \n",
    "\n",
    "* You can inspect discrepancies between the training and evaluation datasets by visualizing the statistics and detecting anomalies.\n",
    "\n",
    "* You can analyze specific slices of your dataset.\n",
    "\n",
    "You can consult this notebook in this week's programming assignment as well as these additional resources:\n",
    "\n",
    "* [TFDV Guide](https://www.tensorflow.org/tfx/data_validation/get_started) \n",
    "* [TFDV blog post](https://blog.tensorflow.org/2018/09/introducing-tensorflow-data-validation.html)\n",
    "* [Tensorflow Official Tutorial](https://colab.research.google.com/github/tensorflow/tfx/blob/master/docs/tutorials/data_validation/tfdv_basic.ipynb#scrollTo=mPt5BHTwy_0F)\n",
    "* [API Docs](https://www.tensorflow.org/tfx/data_validation/api_docs/python/tfdv)"
   ]
  }
 ],
 "metadata": {
  "colab": {
   "collapsed_sections": [],
   "name": "C2_W1_Lab_1_TFDV_Exercise.ipynb",
   "provenance": []
  },
  "kernelspec": {
   "display_name": "Python 3",
   "language": "python",
   "name": "python3"
  },
  "language_info": {
   "codemirror_mode": {
    "name": "ipython",
    "version": 3
   },
   "file_extension": ".py",
   "mimetype": "text/x-python",
   "name": "python",
   "nbconvert_exporter": "python",
   "pygments_lexer": "ipython3",
   "version": "3.8.11"
  }
 },
 "nbformat": 4,
 "nbformat_minor": 1
}
